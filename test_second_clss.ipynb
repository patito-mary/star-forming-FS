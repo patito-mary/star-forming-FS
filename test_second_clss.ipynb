{
 "cells": [
  {
   "cell_type": "code",
   "execution_count": 1,
   "id": "ad95f534-8be9-48c1-a99e-a24f78e2dc99",
   "metadata": {
    "tags": []
   },
   "outputs": [],
   "source": [
    "import pextractor as pex\n",
    "import pandas as pd\n",
    "import numpy as np\n",
    "import matplotlib.pyplot as plt\n",
    "import pickle\n",
    "import illustris_python as il\n",
    "import seaborn as sns\n",
    "from matplotlib.gridspec import GridSpec\n",
    "import h5py"
   ]
  },
  {
   "cell_type": "code",
   "execution_count": 2,
   "id": "5c9906d4-179a-4b56-9789-14a8175be7db",
   "metadata": {
    "tags": []
   },
   "outputs": [],
   "source": [
    "basePath = '/home/tnguser/sims.TNG/TNG100-1/output'\n",
    "fields = ['Group_R_Crit200', 'GroupSFR', 'GroupMassType', 'GroupPos', 'GroupFirstSub']\n",
    "halos = il.groupcat.loadHalos(basePath, 99, fields=fields)"
   ]
  },
  {
   "cell_type": "code",
   "execution_count": 3,
   "id": "b15158b8-f7b6-4c8e-b683-fb88e30756ac",
   "metadata": {
    "tags": []
   },
   "outputs": [],
   "source": [
    "fields = ['SubhaloMass','SubhaloSFRinRad','SubhaloSFR' ,\n",
    "          'SubhaloStellarPhotometrics', 'SubhaloMassType', \n",
    "          'SubhaloGrNr', 'SubhaloPos']\n",
    "subhalos = il.groupcat.loadSubhalos(basePath, 99, fields=fields)"
   ]
  },
  {
   "cell_type": "code",
   "execution_count": 4,
   "id": "472d5c70-0523-48d7-abb0-8a8a9e8e1fb7",
   "metadata": {
    "tags": []
   },
   "outputs": [],
   "source": [
    "h = 0.6774"
   ]
  },
  {
   "cell_type": "code",
   "execution_count": 5,
   "id": "cb9ef076-25ef-44df-bd1a-f78b280336ab",
   "metadata": {
    "tags": []
   },
   "outputs": [],
   "source": [
    "SFR_path = '/home/tnguser/sims.TNG/TNG100-1/postprocessing/released/star_formation_rates.hdf5'\n",
    "f = h5py.File(SFR_path)\n",
    "SFR_cat = f['Snapshot_99']"
   ]
  },
  {
   "cell_type": "code",
   "execution_count": 6,
   "id": "0504ccbc-297a-4a07-bf22-8d282ed0e2d9",
   "metadata": {
    "tags": []
   },
   "outputs": [
    {
     "data": {
      "text/plain": [
       "<HDF5 dataset \"SubfindID\": shape (116394,), type \"<i4\">"
      ]
     },
     "execution_count": 6,
     "metadata": {},
     "output_type": "execute_result"
    }
   ],
   "source": [
    "SFR_cat['SubfindID']"
   ]
  },
  {
   "cell_type": "code",
   "execution_count": 7,
   "id": "64ea3cab-50f2-4abd-8d42-24d3621bbbc7",
   "metadata": {},
   "outputs": [],
   "source": [
    "SFR_values = SFR_cat['SFR_MsunPerYrs_in_all_1000Myrs'][()]"
   ]
  },
  {
   "cell_type": "code",
   "execution_count": 8,
   "id": "1d646e1e-f255-414a-9f5a-58ff57cd87af",
   "metadata": {
    "tags": []
   },
   "outputs": [],
   "source": [
    "df_groups = pd.read_pickle('../generate_catalog/group_number_cat.pkl')"
   ]
  },
  {
   "cell_type": "code",
   "execution_count": 9,
   "id": "40ebab46-3bdf-4dd1-89ad-ed4654a19e56",
   "metadata": {
    "tags": []
   },
   "outputs": [
    {
     "name": "stderr",
     "output_type": "stream",
     "text": [
      "/home/tnguser/taller/utilthings/star_formation/pextractor.py:36: RuntimeWarning: divide by zero encountered in log10\n",
      "  smass = np.log10(self.subhalos['SubhaloMassType'][:, 4] / self.h) + 10\n"
     ]
    }
   ],
   "source": [
    "subhalo_cat = pex.GalaxyGroupExtractor(df_groups, subhalos, halos, h, fields)\n",
    "subhalo_cat.prepare_data()"
   ]
  },
  {
   "cell_type": "code",
   "execution_count": 10,
   "id": "6b2e1340-2477-4a1e-8586-088ef6a485f0",
   "metadata": {
    "tags": []
   },
   "outputs": [],
   "source": [
    "SFR_cat = pex.GalaxyGroupExtractor(df_groups, subhalos, halos, h, fields)\n",
    "SFR_cat.prepare_data()"
   ]
  },
  {
   "cell_type": "code",
   "execution_count": 13,
   "id": "0f1193ef-c29d-4f79-94c5-73885dcb7a1e",
   "metadata": {
    "tags": []
   },
   "outputs": [
    {
     "ename": "ValueError",
     "evalue": "Per-column arrays must each be 1-dimensional",
     "output_type": "error",
     "traceback": [
      "\u001b[0;31m---------------------------------------------------------------------------\u001b[0m",
      "\u001b[0;31mValueError\u001b[0m                                Traceback (most recent call last)",
      "Cell \u001b[0;32mIn[13], line 4\u001b[0m\n\u001b[1;32m      1\u001b[0m extractor \u001b[38;5;241m=\u001b[39m pex\u001b[38;5;241m.\u001b[39mGalaxyGroupExtractor(df_groups, subhalos, halos, h, fields)\n\u001b[1;32m      2\u001b[0m extractor\u001b[38;5;241m.\u001b[39mprepare_data()   \n\u001b[0;32m----> 4\u001b[0m updater \u001b[38;5;241m=\u001b[39m \u001b[43mpex\u001b[49m\u001b[38;5;241;43m.\u001b[39;49m\u001b[43mSubhaloCatalogUpdater\u001b[49m\u001b[43m(\u001b[49m\u001b[43mextractor\u001b[49m\u001b[43m)\u001b[49m\n\u001b[1;32m      6\u001b[0m updater\u001b[38;5;241m.\u001b[39madd_column_from_hdf5(SFR_path, \u001b[38;5;124m'\u001b[39m\u001b[38;5;124mSnapshot_99\u001b[39m\u001b[38;5;124m'\u001b[39m,\n\u001b[1;32m      7\u001b[0m                              id_key\u001b[38;5;241m=\u001b[39m\u001b[38;5;124m'\u001b[39m\u001b[38;5;124mSubfindID\u001b[39m\u001b[38;5;124m'\u001b[39m,   \u001b[38;5;66;03m# o 'SubhaloID' según tu HDF5\u001b[39;00m\n\u001b[1;32m      8\u001b[0m                              value_key\u001b[38;5;241m=\u001b[39m\u001b[38;5;124m'\u001b[39m\u001b[38;5;124mSFR_MsunPerYrs_in_all_1000Myrs\u001b[39m\u001b[38;5;124m'\u001b[39m,\n\u001b[1;32m      9\u001b[0m                              new_column_name\u001b[38;5;241m=\u001b[39m\u001b[38;5;124m'\u001b[39m\u001b[38;5;124mSFR_1000Myr\u001b[39m\u001b[38;5;124m'\u001b[39m)\n\u001b[1;32m     11\u001b[0m \u001b[38;5;66;03m# ver la vista filtrada (si existía)\u001b[39;00m\n",
      "File \u001b[0;32m~/taller/utilthings/star_formation/pextractor.py:156\u001b[0m, in \u001b[0;36mSubhaloCatalogUpdater.__init__\u001b[0;34m(self, catalog)\u001b[0m\n\u001b[1;32m    154\u001b[0m         \u001b[38;5;28;01mif\u001b[39;00m \u001b[38;5;124m'\u001b[39m\u001b[38;5;124mSubhaloID\u001b[39m\u001b[38;5;124m'\u001b[39m \u001b[38;5;129;01mnot\u001b[39;00m \u001b[38;5;129;01min\u001b[39;00m rows \u001b[38;5;129;01mand\u001b[39;00m \u001b[38;5;124m'\u001b[39m\u001b[38;5;124mSubhaloID\u001b[39m\u001b[38;5;124m'\u001b[39m \u001b[38;5;129;01min\u001b[39;00m \u001b[38;5;28mself\u001b[39m\u001b[38;5;241m.\u001b[39mraw:\n\u001b[1;32m    155\u001b[0m             rows[\u001b[38;5;124m'\u001b[39m\u001b[38;5;124mSubhaloID\u001b[39m\u001b[38;5;124m'\u001b[39m] \u001b[38;5;241m=\u001b[39m \u001b[38;5;28mself\u001b[39m\u001b[38;5;241m.\u001b[39mraw[\u001b[38;5;124m'\u001b[39m\u001b[38;5;124mSubhaloID\u001b[39m\u001b[38;5;124m'\u001b[39m][mask]\n\u001b[0;32m--> 156\u001b[0m         \u001b[38;5;28mself\u001b[39m\u001b[38;5;241m.\u001b[39mfiltered_df \u001b[38;5;241m=\u001b[39m \u001b[43mpd\u001b[49m\u001b[38;5;241;43m.\u001b[39;49m\u001b[43mDataFrame\u001b[49m\u001b[43m(\u001b[49m\u001b[43mrows\u001b[49m\u001b[43m)\u001b[49m\n\u001b[1;32m    157\u001b[0m \u001b[38;5;28;01melif\u001b[39;00m \u001b[38;5;28misinstance\u001b[39m(catalog, \u001b[38;5;28mdict\u001b[39m):\n\u001b[1;32m    158\u001b[0m     \u001b[38;5;28mself\u001b[39m\u001b[38;5;241m.\u001b[39mraw \u001b[38;5;241m=\u001b[39m catalog\n",
      "File \u001b[0;32m/opt/conda/lib/python3.11/site-packages/pandas/core/frame.py:709\u001b[0m, in \u001b[0;36mDataFrame.__init__\u001b[0;34m(self, data, index, columns, dtype, copy)\u001b[0m\n\u001b[1;32m    703\u001b[0m     mgr \u001b[38;5;241m=\u001b[39m \u001b[38;5;28mself\u001b[39m\u001b[38;5;241m.\u001b[39m_init_mgr(\n\u001b[1;32m    704\u001b[0m         data, axes\u001b[38;5;241m=\u001b[39m{\u001b[38;5;124m\"\u001b[39m\u001b[38;5;124mindex\u001b[39m\u001b[38;5;124m\"\u001b[39m: index, \u001b[38;5;124m\"\u001b[39m\u001b[38;5;124mcolumns\u001b[39m\u001b[38;5;124m\"\u001b[39m: columns}, dtype\u001b[38;5;241m=\u001b[39mdtype, copy\u001b[38;5;241m=\u001b[39mcopy\n\u001b[1;32m    705\u001b[0m     )\n\u001b[1;32m    707\u001b[0m \u001b[38;5;28;01melif\u001b[39;00m \u001b[38;5;28misinstance\u001b[39m(data, \u001b[38;5;28mdict\u001b[39m):\n\u001b[1;32m    708\u001b[0m     \u001b[38;5;66;03m# GH#38939 de facto copy defaults to False only in non-dict cases\u001b[39;00m\n\u001b[0;32m--> 709\u001b[0m     mgr \u001b[38;5;241m=\u001b[39m \u001b[43mdict_to_mgr\u001b[49m\u001b[43m(\u001b[49m\u001b[43mdata\u001b[49m\u001b[43m,\u001b[49m\u001b[43m \u001b[49m\u001b[43mindex\u001b[49m\u001b[43m,\u001b[49m\u001b[43m \u001b[49m\u001b[43mcolumns\u001b[49m\u001b[43m,\u001b[49m\u001b[43m \u001b[49m\u001b[43mdtype\u001b[49m\u001b[38;5;241;43m=\u001b[39;49m\u001b[43mdtype\u001b[49m\u001b[43m,\u001b[49m\u001b[43m \u001b[49m\u001b[43mcopy\u001b[49m\u001b[38;5;241;43m=\u001b[39;49m\u001b[43mcopy\u001b[49m\u001b[43m,\u001b[49m\u001b[43m \u001b[49m\u001b[43mtyp\u001b[49m\u001b[38;5;241;43m=\u001b[39;49m\u001b[43mmanager\u001b[49m\u001b[43m)\u001b[49m\n\u001b[1;32m    710\u001b[0m \u001b[38;5;28;01melif\u001b[39;00m \u001b[38;5;28misinstance\u001b[39m(data, ma\u001b[38;5;241m.\u001b[39mMaskedArray):\n\u001b[1;32m    711\u001b[0m     \u001b[38;5;28;01mfrom\u001b[39;00m \u001b[38;5;21;01mnumpy\u001b[39;00m\u001b[38;5;21;01m.\u001b[39;00m\u001b[38;5;21;01mma\u001b[39;00m \u001b[38;5;28;01mimport\u001b[39;00m mrecords\n",
      "File \u001b[0;32m/opt/conda/lib/python3.11/site-packages/pandas/core/internals/construction.py:481\u001b[0m, in \u001b[0;36mdict_to_mgr\u001b[0;34m(data, index, columns, dtype, typ, copy)\u001b[0m\n\u001b[1;32m    477\u001b[0m     \u001b[38;5;28;01melse\u001b[39;00m:\n\u001b[1;32m    478\u001b[0m         \u001b[38;5;66;03m# dtype check to exclude e.g. range objects, scalars\u001b[39;00m\n\u001b[1;32m    479\u001b[0m         arrays \u001b[38;5;241m=\u001b[39m [x\u001b[38;5;241m.\u001b[39mcopy() \u001b[38;5;28;01mif\u001b[39;00m \u001b[38;5;28mhasattr\u001b[39m(x, \u001b[38;5;124m\"\u001b[39m\u001b[38;5;124mdtype\u001b[39m\u001b[38;5;124m\"\u001b[39m) \u001b[38;5;28;01melse\u001b[39;00m x \u001b[38;5;28;01mfor\u001b[39;00m x \u001b[38;5;129;01min\u001b[39;00m arrays]\n\u001b[0;32m--> 481\u001b[0m \u001b[38;5;28;01mreturn\u001b[39;00m \u001b[43marrays_to_mgr\u001b[49m\u001b[43m(\u001b[49m\u001b[43marrays\u001b[49m\u001b[43m,\u001b[49m\u001b[43m \u001b[49m\u001b[43mcolumns\u001b[49m\u001b[43m,\u001b[49m\u001b[43m \u001b[49m\u001b[43mindex\u001b[49m\u001b[43m,\u001b[49m\u001b[43m \u001b[49m\u001b[43mdtype\u001b[49m\u001b[38;5;241;43m=\u001b[39;49m\u001b[43mdtype\u001b[49m\u001b[43m,\u001b[49m\u001b[43m \u001b[49m\u001b[43mtyp\u001b[49m\u001b[38;5;241;43m=\u001b[39;49m\u001b[43mtyp\u001b[49m\u001b[43m,\u001b[49m\u001b[43m \u001b[49m\u001b[43mconsolidate\u001b[49m\u001b[38;5;241;43m=\u001b[39;49m\u001b[43mcopy\u001b[49m\u001b[43m)\u001b[49m\n",
      "File \u001b[0;32m/opt/conda/lib/python3.11/site-packages/pandas/core/internals/construction.py:115\u001b[0m, in \u001b[0;36marrays_to_mgr\u001b[0;34m(arrays, columns, index, dtype, verify_integrity, typ, consolidate)\u001b[0m\n\u001b[1;32m    112\u001b[0m \u001b[38;5;28;01mif\u001b[39;00m verify_integrity:\n\u001b[1;32m    113\u001b[0m     \u001b[38;5;66;03m# figure out the index, if necessary\u001b[39;00m\n\u001b[1;32m    114\u001b[0m     \u001b[38;5;28;01mif\u001b[39;00m index \u001b[38;5;129;01mis\u001b[39;00m \u001b[38;5;28;01mNone\u001b[39;00m:\n\u001b[0;32m--> 115\u001b[0m         index \u001b[38;5;241m=\u001b[39m \u001b[43m_extract_index\u001b[49m\u001b[43m(\u001b[49m\u001b[43marrays\u001b[49m\u001b[43m)\u001b[49m\n\u001b[1;32m    116\u001b[0m     \u001b[38;5;28;01melse\u001b[39;00m:\n\u001b[1;32m    117\u001b[0m         index \u001b[38;5;241m=\u001b[39m ensure_index(index)\n",
      "File \u001b[0;32m/opt/conda/lib/python3.11/site-packages/pandas/core/internals/construction.py:642\u001b[0m, in \u001b[0;36m_extract_index\u001b[0;34m(data)\u001b[0m\n\u001b[1;32m    640\u001b[0m         raw_lengths\u001b[38;5;241m.\u001b[39mappend(\u001b[38;5;28mlen\u001b[39m(val))\n\u001b[1;32m    641\u001b[0m     \u001b[38;5;28;01melif\u001b[39;00m \u001b[38;5;28misinstance\u001b[39m(val, np\u001b[38;5;241m.\u001b[39mndarray) \u001b[38;5;129;01mand\u001b[39;00m val\u001b[38;5;241m.\u001b[39mndim \u001b[38;5;241m>\u001b[39m \u001b[38;5;241m1\u001b[39m:\n\u001b[0;32m--> 642\u001b[0m         \u001b[38;5;28;01mraise\u001b[39;00m \u001b[38;5;167;01mValueError\u001b[39;00m(\u001b[38;5;124m\"\u001b[39m\u001b[38;5;124mPer-column arrays must each be 1-dimensional\u001b[39m\u001b[38;5;124m\"\u001b[39m)\n\u001b[1;32m    644\u001b[0m \u001b[38;5;28;01mif\u001b[39;00m \u001b[38;5;129;01mnot\u001b[39;00m indexes \u001b[38;5;129;01mand\u001b[39;00m \u001b[38;5;129;01mnot\u001b[39;00m raw_lengths:\n\u001b[1;32m    645\u001b[0m     \u001b[38;5;28;01mraise\u001b[39;00m \u001b[38;5;167;01mValueError\u001b[39;00m(\u001b[38;5;124m\"\u001b[39m\u001b[38;5;124mIf using all scalar values, you must pass an index\u001b[39m\u001b[38;5;124m\"\u001b[39m)\n",
      "\u001b[0;31mValueError\u001b[0m: Per-column arrays must each be 1-dimensional"
     ]
    }
   ],
   "source": [
    "extractor = pex.GalaxyGroupExtractor(df_groups, subhalos, halos, h, fields)\n",
    "extractor.prepare_data()   \n",
    "\n",
    "updater = pex.SubhaloCatalogUpdater(extractor)\n",
    "\n",
    "updater.add_column_from_hdf5(SFR_path, 'Snapshot_99',\n",
    "                             id_key='SubfindID',   # o 'SubhaloID' según tu HDF5\n",
    "                             value_key='SFR_MsunPerYrs_in_all_1000Myrs',\n",
    "                             new_column_name='SFR_1000Myr')\n",
    "\n",
    "# ver la vista filtrada (si existía)\n",
    "df_filtrado = updater.get_catalog"
   ]
  },
  {
   "cell_type": "code",
   "execution_count": null,
   "id": "24ae2141-c69f-482c-985c-e467b6b6dc6e",
   "metadata": {},
   "outputs": [],
   "source": []
  }
 ],
 "metadata": {
  "kernelspec": {
   "display_name": "Python 3 (ipykernel)",
   "language": "python",
   "name": "python3"
  },
  "language_info": {
   "codemirror_mode": {
    "name": "ipython",
    "version": 3
   },
   "file_extension": ".py",
   "mimetype": "text/x-python",
   "name": "python",
   "nbconvert_exporter": "python",
   "pygments_lexer": "ipython3",
   "version": "3.11.4"
  }
 },
 "nbformat": 4,
 "nbformat_minor": 5
}
