{
 "cells": [
  {
   "cell_type": "code",
   "execution_count": 207,
   "id": "6015fda9-5ee1-432c-9acb-e45a0ae9eb78",
   "metadata": {
    "tags": []
   },
   "outputs": [],
   "source": [
    "import pandas as pd\n",
    "import numpy as np\n",
    "import matplotlib.pyplot as plt\n",
    "import pickle\n",
    "import seaborn as sns\n",
    "import illustris_python as il"
   ]
  },
  {
   "cell_type": "code",
   "execution_count": 208,
   "id": "6a5c53cc-3d64-4b41-b293-8c171830bbec",
   "metadata": {
    "tags": []
   },
   "outputs": [],
   "source": [
    "def Distance_1D(X, X_POS, BoxSize):\n",
    "    '''This function takes as input a 1D \n",
    "    vector containing the positions of particles, \n",
    "    the X_POS(float) that is the position respect \n",
    "    to where we will compute the Distance and the BoxSize, \n",
    "    this function consider a periodical Box. \n",
    "    The output is a 1D vector with the same size than X \n",
    "    containing the distance from X to X_POS\n",
    "    example:\n",
    "        xc = Distance_1D(pos[gals,0], pos[central,0], (75000/h))\n",
    "        yc = Distance_1D(pos[gals,1], pos[central,1], (75000/h))\n",
    "        zc = Distance_1D(pos[gals,2], pos[central,2], (75000/h))\n",
    "        # with the aim of use of the normpos\n",
    "        normpos = np.sqrt(xc**2 + yc**2 + zc**2)/r200[group]\n",
    "    '''\n",
    "    \n",
    "    D=X-X_POS\n",
    "    D=np.where(D>BoxSize/2, D-BoxSize, D)\n",
    "    D=np.where(D<-BoxSize/2, D+BoxSize, D)\n",
    "    return D"
   ]
  },
  {
   "cell_type": "code",
   "execution_count": 209,
   "id": "545aa7ab-eb1f-4138-bf26-fde44f51fcb4",
   "metadata": {},
   "outputs": [],
   "source": [
    "basePath = '/home/tnguser/sims.TNG/TNG100-1/output'\n",
    "fields = ['Group_R_Crit200', 'GroupSFR', 'GroupMassType', 'GroupPos']\n",
    "halos = il.groupcat.loadHalos(basePath, 99, fields=fields)"
   ]
  },
  {
   "cell_type": "code",
   "execution_count": 210,
   "id": "3047f8ab-f559-48c9-96bf-d1c029879e35",
   "metadata": {
    "tags": []
   },
   "outputs": [],
   "source": [
    "fields = ['SubhaloMass','SubhaloSFRinRad','SubhaloSFR' ,\n",
    "          'SubhaloStellarPhotometrics', 'SubhaloMassType', \n",
    "          'SubhaloGrNr', 'SubhaloPos']\n",
    "subhalos = il.groupcat.loadSubhalos(basePath, 99, fields=fields)"
   ]
  },
  {
   "cell_type": "code",
   "execution_count": 211,
   "id": "3c3eb70f-8127-4aa6-972b-8b5ef809c8b5",
   "metadata": {
    "tags": []
   },
   "outputs": [],
   "source": [
    "h = 0.6774"
   ]
  },
  {
   "cell_type": "code",
   "execution_count": 212,
   "id": "22ecb1fb-b1e0-4362-89ab-7513961673ac",
   "metadata": {
    "tags": []
   },
   "outputs": [],
   "source": [
    "df_groups = pd.read_pickle('../generate_catalog/group_number_cat.pkl')"
   ]
  },
  {
   "cell_type": "code",
   "execution_count": 213,
   "id": "6356bbfe-33d6-4037-81b6-2ac024aa4b3f",
   "metadata": {
    "tags": []
   },
   "outputs": [],
   "source": [
    "df_sats_05 = pd.read_pickle('../generate_catalog/satellites_cat/sample_at_05.pkl')\n",
    "df_sats_1 = pd.read_pickle('../generate_catalog/satellites_cat/sample_at_1.pkl')"
   ]
  },
  {
   "cell_type": "markdown",
   "id": "f3064864-1a57-44f2-ac97-bc86c49199a0",
   "metadata": {},
   "source": [
    "## testing for one halo"
   ]
  },
  {
   "cell_type": "code",
   "execution_count": 214,
   "id": "6a160d46-6932-477e-85b1-080643951a09",
   "metadata": {
    "tags": []
   },
   "outputs": [],
   "source": [
    "id_sats_group_0 = np.where(df_sats_05['group_index']==0)[0]\n",
    "id_central_group_0 = id_sats_group_0[0]\n",
    "id_sats_group_0 = id_sats_group_0[1:]"
   ]
  },
  {
   "cell_type": "code",
   "execution_count": 215,
   "id": "4251a2bf-3eb9-40e2-9985-9f41dcd0deb3",
   "metadata": {
    "tags": []
   },
   "outputs": [],
   "source": [
    "pos_sats_group_0 = subhalos['SubhaloPos'][id_sats_group_0]/h\n",
    "pos_central_group_0 = subhalos['SubhaloPos'][id_central_group_0]/h"
   ]
  },
  {
   "cell_type": "code",
   "execution_count": 216,
   "id": "abfb3ee8-1837-49ca-967d-390e39bc7250",
   "metadata": {
    "tags": []
   },
   "outputs": [],
   "source": [
    "x = pos_sats_group_0[:, 0]\n",
    "y = pos_sats_group_0[:, 1]\n",
    "z = pos_sats_group_0[:, 2]\n",
    "r200_group_0 = halos['Group_R_Crit200'][df_groups['05FossilR200'][0]]/h"
   ]
  },
  {
   "cell_type": "code",
   "execution_count": 217,
   "id": "d7eec6a8-751c-4316-892c-41417149921a",
   "metadata": {
    "tags": []
   },
   "outputs": [],
   "source": [
    "xc = Distance_1D(x, pos_central_group_0[0], (75000/h))\n",
    "yc = Distance_1D(y, pos_central_group_0[1], (75000/h))\n",
    "zc = Distance_1D(z, pos_central_group_0[2], (75000/h))\n",
    "        \n",
    "normpos_group_0 = np.sqrt(xc**2 + yc**2 + zc**2)/r200_group_0\n",
    "\n",
    "pos_inside_05 = normpos_group_0[np.where(normpos_group_0 <= 0.5)[0]]\n",
    "id_inside_05 = np.where(normpos_group_0 <= 0.5)[0]"
   ]
  },
  {
   "cell_type": "code",
   "execution_count": 218,
   "id": "24e185c1-c102-446a-a475-05c6dc909dd1",
   "metadata": {
    "tags": []
   },
   "outputs": [],
   "source": [
    "ssfr_group_0 = df_sats_05['sSFR'][id_sats_group_0]"
   ]
  },
  {
   "cell_type": "code",
   "execution_count": 219,
   "id": "fdcce764-1347-4377-ab8b-218fff39e672",
   "metadata": {
    "tags": []
   },
   "outputs": [
    {
     "data": {
      "text/plain": [
       "Text(0, 0.5, 'sSFR')"
      ]
     },
     "execution_count": 219,
     "metadata": {},
     "output_type": "execute_result"
    },
    {
     "data": {
      "image/png": "[encoded data removed]",
      "text/plain": [
       "<Figure size 700x500 with 1 Axes>"
      ]
     },
     "metadata": {},
     "output_type": "display_data"
    }
   ],
   "source": [
    "fig, ax = plt.subplots(1,1, figsize=(7,5))\n",
    "ax.scatter(normpos_group_0, ssfr_group_0)\n",
    "ax.set_yscale('log')\n",
    "ax.set_xlabel('R/R200')\n",
    "ax.set_ylabel('sSFR')"
   ]
  },
  {
   "cell_type": "markdown",
   "id": "153a27cb-19f6-4170-834b-a579b2138dbe",
   "metadata": {},
   "source": [
    "# testing for all the satellite galaxies"
   ]
  },
  {
   "cell_type": "code",
   "execution_count": 220,
   "id": "f1ff7a92-9dc8-47b0-bc42-8241d718f1b5",
   "metadata": {
    "tags": []
   },
   "outputs": [],
   "source": [
    "F05r200 = df_groups['05FossilR200']\n",
    "NF05r200 = df_groups['05NFossilR200']"
   ]
  },
  {
   "cell_type": "code",
   "execution_count": 221,
   "id": "9ead4565-8b65-46b9-9dcc-7af2836e4a2b",
   "metadata": {
    "tags": []
   },
   "outputs": [],
   "source": [
    "Fr200 = df_groups['1FossilR200']\n",
    "NFr200 = df_groups['1NFossilR200']"
   ]
  },
  {
   "cell_type": "code",
   "execution_count": 222,
   "id": "5cbaa4aa-7e0c-4f11-a107-8a1224fa33d1",
   "metadata": {
    "tags": []
   },
   "outputs": [],
   "source": [
    "stellar_mass_05 = df_sats_05['satellite_mass']"
   ]
  },
  {
   "cell_type": "markdown",
   "id": "d6677c95-c64d-41d8-9e4d-4aeb3a441ce4",
   "metadata": {},
   "source": [
    "## specific star formation rate and QF for 05"
   ]
  },
  {
   "cell_type": "code",
   "execution_count": 223,
   "id": "d07eb543-49e8-446d-9d27-80d9dec2a6f0",
   "metadata": {
    "tags": []
   },
   "outputs": [],
   "source": [
    "threshold = 1e-11"
   ]
  },
  {
   "cell_type": "code",
   "execution_count": 224,
   "id": "5f304a94-1963-4a45-a220-7c742401663d",
   "metadata": {
    "tags": []
   },
   "outputs": [
    {
     "name": "stderr",
     "output_type": "stream",
     "text": [
      "/tmp/ipykernel_769/3328745010.py:12: RuntimeWarning: invalid value encountered in scalar divide\n",
      "  sSFR = (h / 10**10) * (subhalos['SubhaloSFR'][subhalo_id] / subhalos['SubhaloMassType'][subhalo_id, 4])\n",
      "/tmp/ipykernel_769/3328745010.py:26: RuntimeWarning: invalid value encountered in scalar divide\n",
      "  sSFR = (h / 10**10) * (subhalos['SubhaloSFR'][subhalo_id] / subhalos['SubhaloMassType'][subhalo_id, 4])\n"
     ]
    }
   ],
   "source": [
    "F05sSFR_dict = {}\n",
    "NF05sSFR_dict = {}\n",
    "\n",
    "# Fósiles\n",
    "for i in range(len(F05r200)):\n",
    "    group_id = F05r200[i]\n",
    "    group = np.where(df_sats_05['group_index'] == group_id)[0]\n",
    "    F05sSFR_dict[group_id] = []\n",
    "\n",
    "    for subhalo in range(1, len(group)):  # skip central\n",
    "        subhalo_id = group[subhalo]\n",
    "        sSFR = (h / 10**10) * (subhalos['SubhaloSFR'][subhalo_id] / subhalos['SubhaloMassType'][subhalo_id, 4])\n",
    "        F05sSFR_dict[group_id].append({\n",
    "            'subhalo_id': int(subhalo_id),\n",
    "            'sSFR': float(sSFR)\n",
    "        })\n",
    "\n",
    "# No-fósiles\n",
    "for i in range(len(NF05r200)):\n",
    "    group_id = NF05r200[i]\n",
    "    group = np.where(df_sats_05['group_index'] == group_id)[0]\n",
    "    NF05sSFR_dict[group_id] = []\n",
    "\n",
    "    for subhalo in range(1, len(group)):  # skip central\n",
    "        subhalo_id = group[subhalo]\n",
    "        sSFR = (h / 10**10) * (subhalos['SubhaloSFR'][subhalo_id] / subhalos['SubhaloMassType'][subhalo_id, 4])\n",
    "        NF05sSFR_dict[group_id].append({\n",
    "            'subhalo_id': int(subhalo_id),\n",
    "            'sSFR': float(sSFR)\n",
    "        })"
   ]
  },
  {
   "cell_type": "code",
   "execution_count": 225,
   "id": "c79d17a4-1a88-4d0c-838c-a0f7c3673fd7",
   "metadata": {
    "tags": []
   },
   "outputs": [],
   "source": [
    "# Para los fósiles\n",
    "for i, group_id in enumerate(F05r200):\n",
    "    sSFR_vals = [entry['sSFR'] for entry in F05sSFR_dict[group_id]]\n",
    "    if len(sSFR_vals) > 0:\n",
    "        quenched = np.sum(np.array(sSFR_vals) < threshold)\n",
    "        QF = quenched / len(sSFR_vals)\n",
    "    else:\n",
    "        QF = np.nan  # o 0, según tu criterio\n",
    "\n",
    "    # Agregamos como nueva entrada en el diccionario\n",
    "    F05sSFR_dict[group_id] = {\n",
    "        'members': F05sSFR_dict[group_id],\n",
    "        'QF': QF\n",
    "    }\n",
    "\n",
    "# Para los no-fósiles\n",
    "for i, group_id in enumerate(NF05r200):\n",
    "    sSFR_vals = [entry['sSFR'] for entry in NF05sSFR_dict[group_id]]\n",
    "    if len(sSFR_vals) > 0:\n",
    "        quenched = np.sum(np.array(sSFR_vals) < threshold)\n",
    "        QF = quenched / len(sSFR_vals)\n",
    "    else:\n",
    "        QF = np.nan\n",
    "\n",
    "    NF05sSFR_dict[group_id] = {\n",
    "        'members': NF05sSFR_dict[group_id],\n",
    "        'QF': QF\n",
    "    }\n"
   ]
  },
  {
   "cell_type": "markdown",
   "id": "b88baf06-dc83-4c72-b469-b98243879644",
   "metadata": {},
   "source": [
    "## specific star formation rate and QF for 1"
   ]
  },
  {
   "cell_type": "code",
   "execution_count": 226,
   "id": "0f94a025-b470-4e9c-8f78-b2de03712b1e",
   "metadata": {
    "tags": []
   },
   "outputs": [
    {
     "name": "stderr",
     "output_type": "stream",
     "text": [
      "/tmp/ipykernel_769/1807481374.py:12: RuntimeWarning: invalid value encountered in scalar divide\n",
      "  sSFR = (h / 10**10) * (subhalos['SubhaloSFR'][subhalo_id] / subhalos['SubhaloMassType'][subhalo_id, 4])\n",
      "/tmp/ipykernel_769/1807481374.py:26: RuntimeWarning: invalid value encountered in scalar divide\n",
      "  sSFR = (h / 10**10) * (subhalos['SubhaloSFR'][subhalo_id] / subhalos['SubhaloMassType'][subhalo_id, 4])\n"
     ]
    }
   ],
   "source": [
    "F1sSFR_dict = {}\n",
    "NF1sSFR_dict = {}\n",
    "\n",
    "# Fósiles\n",
    "for i in range(len(Fr200)):\n",
    "    group_id = Fr200[i]\n",
    "    group = np.where(df_sats_05['group_index'] == group_id)[0]\n",
    "    F1sSFR_dict[group_id] = []\n",
    "\n",
    "    for subhalo in range(1, len(group)):  # skip central\n",
    "        subhalo_id = group[subhalo]\n",
    "        sSFR = (h / 10**10) * (subhalos['SubhaloSFR'][subhalo_id] / subhalos['SubhaloMassType'][subhalo_id, 4])\n",
    "        F1sSFR_dict[group_id].append({\n",
    "            'subhalo_id': int(subhalo_id),\n",
    "            'sSFR': float(sSFR)\n",
    "        })\n",
    "\n",
    "# No-fósiles\n",
    "for i in range(len(NFr200)):\n",
    "    group_id = NFr200[i]\n",
    "    group = np.where(df_sats_05['group_index'] == group_id)[0]\n",
    "    NF1sSFR_dict[group_id] = []\n",
    "\n",
    "    for subhalo in range(1, len(group)):  # skip central\n",
    "        subhalo_id = group[subhalo]\n",
    "        sSFR = (h / 10**10) * (subhalos['SubhaloSFR'][subhalo_id] / subhalos['SubhaloMassType'][subhalo_id, 4])\n",
    "        NF1sSFR_dict[group_id].append({\n",
    "            'subhalo_id': int(subhalo_id),\n",
    "            'sSFR': float(sSFR)\n",
    "        })"
   ]
  },
  {
   "cell_type": "code",
   "execution_count": 227,
   "id": "5407623b-8e91-49a9-ab2a-467c1fb9d786",
   "metadata": {
    "tags": []
   },
   "outputs": [],
   "source": [
    "# Para los fósiles\n",
    "for i, group_id in enumerate(Fr200):\n",
    "    sSFR_vals = [entry['sSFR'] for entry in F1sSFR_dict[group_id]]\n",
    "    if len(sSFR_vals) > 0:\n",
    "        quenched = np.sum(np.array(sSFR_vals) < threshold)\n",
    "        QF = quenched / len(sSFR_vals)\n",
    "    else:\n",
    "        QF = np.nan  # o 0, según tu criterio\n",
    "\n",
    "    # Agregamos como nueva entrada en el diccionario\n",
    "    F1sSFR_dict[group_id] = {\n",
    "        'members': F1sSFR_dict[group_id],\n",
    "        'QF': QF\n",
    "    }\n",
    "\n",
    "# Para los no-fósiles\n",
    "for i, group_id in enumerate(NFr200):\n",
    "    sSFR_vals = [entry['sSFR'] for entry in NF1sSFR_dict[group_id]]\n",
    "    if len(sSFR_vals) > 0:\n",
    "        quenched = np.sum(np.array(sSFR_vals) < threshold)\n",
    "        QF = quenched / len(sSFR_vals)\n",
    "    else:\n",
    "        QF = np.nan\n",
    "\n",
    "    NF1sSFR_dict[group_id] = {\n",
    "        'members': NF1sSFR_dict[group_id],\n",
    "        'QF': QF\n",
    "    }\n"
   ]
  },
  {
   "cell_type": "code",
   "execution_count": 228,
   "id": "1aa5ef9e-9177-4a45-ac67-1298877e539e",
   "metadata": {
    "tags": []
   },
   "outputs": [],
   "source": [
    "QF_05_list = []\n",
    "QF_05_dict = {}\n",
    "\n",
    "for group_id, data in F05sSFR_dict.items():\n",
    "    qf = data['QF']\n",
    "    QF_05_list.append(qf)\n",
    "    QF_05_dict[group_id] = qf\n"
   ]
  },
  {
   "cell_type": "code",
   "execution_count": 229,
   "id": "ef1aba30-4243-46e3-8f70-475e40286134",
   "metadata": {
    "tags": []
   },
   "outputs": [],
   "source": [
    "QF_NF05_list = []\n",
    "QF_NF05_dict = {}\n",
    "\n",
    "for group_id, data in NF05sSFR_dict.items():\n",
    "    qf = data['QF']\n",
    "    QF_NF05_list.append(qf)\n",
    "    QF_NF05_dict[group_id] = qf"
   ]
  },
  {
   "cell_type": "code",
   "execution_count": 230,
   "id": "fb54aad8-1980-47d6-a934-1c994cb57415",
   "metadata": {
    "tags": []
   },
   "outputs": [],
   "source": [
    "medianQF = np.median(QF_05_list)\n",
    "mediannQF = np.median(QF_NF05_list)\n",
    "meanQF = np.mean(QF_05_list)\n",
    "meannQF = np.mean(QF_NF05_list)"
   ]
  },
  {
   "cell_type": "code",
   "execution_count": 231,
   "id": "05483d92-5db3-47a5-8603-048a793b77bc",
   "metadata": {
    "tags": []
   },
   "outputs": [],
   "source": [
    "QF_1_list = []\n",
    "QF_1_dict = {}\n",
    "\n",
    "for group_id, data in F1sSFR_dict.items():\n",
    "    qf = data['QF']\n",
    "    QF_1_list.append(qf)\n",
    "    QF_1_dict[group_id] = qf\n"
   ]
  },
  {
   "cell_type": "code",
   "execution_count": 232,
   "id": "b8de78fe-33f2-404d-9a14-f5b2769ecd25",
   "metadata": {
    "tags": []
   },
   "outputs": [],
   "source": [
    "QF_NF1_list = []\n",
    "QF_NF1_dict = {}\n",
    "\n",
    "for group_id, data in NF1sSFR_dict.items():\n",
    "    qf = data['QF']\n",
    "    QF_NF1_list.append(qf)\n",
    "    QF_NF1_dict[group_id] = qf"
   ]
  },
  {
   "cell_type": "code",
   "execution_count": 233,
   "id": "36846acd-f885-4060-9c0a-e04d1a99ccc5",
   "metadata": {},
   "outputs": [],
   "source": [
    "medianQF = np.median(QF_1_list)\n",
    "mediannQF = np.median(QF_NF1_list)\n",
    "meanQF = np.mean(QF_1_list)\n",
    "meannQF = np.mean(QF_NF1_list)"
   ]
  },
  {
   "cell_type": "code",
   "execution_count": 234,
   "id": "3a79fbda-3454-4123-bdb5-5242d2d23653",
   "metadata": {},
   "outputs": [],
   "source": [
    "weight_fossil = np.ones_like(QF_05_list)/len(F05r200)\n",
    "weight_nonfossil = np.ones_like(QF_NF05_list)/len(NF05r200)\n",
    "#bins= np.arange(0, 1, 0.025)\n",
    "bins= int(1 + np.log2(len(F05r200)+len(NF05r200)))"
   ]
  },
  {
   "cell_type": "code",
   "execution_count": 235,
   "id": "13ba26ad-a5be-4975-bbcd-837e6d68021a",
   "metadata": {},
   "outputs": [],
   "source": [
    "weight_fossil_1 = np.ones_like(QF_1_list)/len(Fr200)\n",
    "weight_nonfossil_1 = np.ones_like(QF_NF1_list)/len(NFr200)\n",
    "#bins= np.arange(0, 1, 0.025)\n",
    "bins_1 = int(1 + np.log2(len(Fr200)+len(NFr200)))"
   ]
  },
  {
   "cell_type": "code",
   "execution_count": 237,
   "id": "d1a4c716-71fa-4469-a63b-15fc01779b55",
   "metadata": {},
   "outputs": [
    {
     "data": {
      "text/plain": [
       "Text(0.5, 0.01, 'quenching fraction (% of quenched galaxies per halo)')"
      ]
     },
     "execution_count": 237,
     "metadata": {},
     "output_type": "execute_result"
    },
    {
     "data": {
      "image/png": "[encoded data removed]",
      "text/plain": [
       "<Figure size 900x500 with 2 Axes>"
      ]
     },
     "metadata": {},
     "output_type": "display_data"
    }
   ],
   "source": [
    "fig, ax = plt.subplots(1,2, figsize=(9,5))\n",
    "\n",
    "ax[0].hist([QF_NF05_list,QF_05_list], bins=bins, color = ['blue', 'orange'], \n",
    "           rwidth=0.8, alpha=0.5, label=['Non fossil', 'Fossil'], \n",
    "           weights = [weight_nonfossil, weight_fossil], cumulative=False)\n",
    "ax[1].hist([QF_NF1_list,QF_1_list], bins=bins, color = ['blue', 'orange'], \n",
    "           rwidth=0.8, alpha=0.5, label=['Non fossil', 'Fossil'], \n",
    "           weights = [weight_nonfossil_1, weight_fossil_1], cumulative=False)\n",
    "\n",
    "ax[0].set_ylabel('number of structures')\n",
    "fig.supxlabel('quenching fraction (% of quenched galaxies per halo)')\n"
   ]
  },
  {
   "cell_type": "code",
   "execution_count": 238,
   "id": "02c10d99-263a-4afe-bef9-1247cc3f38a3",
   "metadata": {
    "tags": []
   },
   "outputs": [],
   "source": [
    "df_05 = pd.DataFrame({\n",
    "    'QF': QF_NF05_list + QF_05_list,\n",
    "    'state': ['no-fósil'] * len(QF_NF05_list) + ['fósil'] * len(QF_05_list)\n",
    "})\n",
    "\n",
    "df_1 = pd.DataFrame({\n",
    "    'QF': QF_NF1_list + QF_1_list,\n",
    "    'state': ['no-fósil'] * len(QF_NF1_list) + ['fósil'] * len(QF_1_list)\n",
    "})"
   ]
  },
  {
   "cell_type": "code",
   "execution_count": 239,
   "id": "f1283ed0-9844-4d15-a80c-72787eeca71e",
   "metadata": {
    "tags": []
   },
   "outputs": [
    {
     "data": {
      "image/png": "[encoded data removed]",
      "text/plain": [
       "<Figure size 900x500 with 2 Axes>"
      ]
     },
     "metadata": {},
     "output_type": "display_data"
    }
   ],
   "source": [
    "fig, ax = plt.subplots(1, 2, figsize=(9, 5))\n",
    "\n",
    "sns.histplot(data=df_05, x='QF', hue='state', \n",
    "             bins=bins, stat='proportion', element='bars', \n",
    "             common_norm=False, ax=ax[0], multiple='dodge', \n",
    "             shrink=0.8, edgecolor='white')\n",
    "\n",
    "sns.histplot(data=df_1, x='QF', hue='state',\n",
    "             bins=bins, stat='proportion', element='bars',\n",
    "             common_norm=False, ax=ax[1], multiple='dodge', \n",
    "             shrink=0.8, edgecolor='white')\n",
    "\n",
    "# Quitar etiquetas de ejes individuales\n",
    "ax[0].set_xlabel('')\n",
    "ax[0].set_ylabel('')\n",
    "ax[0].set_ylim(0,0.35)\n",
    "\n",
    "ax[1].set_xlabel('')\n",
    "ax[1].set_ylabel('')\n",
    "ax[1].set_ylim(0,0.35)\n",
    "# Etiqueta común en el eje x\n",
    "fig.supylabel('normalized number of halos per sample')\n",
    "fig.supxlabel('quenching fraction (% of quenched galaxies per halo)')\n",
    "\n",
    "plt.tight_layout()\n",
    "plt.show()\n"
   ]
  },
  {
   "cell_type": "markdown",
   "id": "7eb49be0-4dda-4d6f-af32-d4b5608bd0c8",
   "metadata": {},
   "source": [
    "## cumulative quenching fraction"
   ]
  },
  {
   "cell_type": "code",
   "execution_count": 240,
   "id": "635a2710-2cde-43f5-841f-e322c55cdbed",
   "metadata": {
    "tags": []
   },
   "outputs": [],
   "source": [
    "binsnf = np.linspace(0, 1, num=len(QF_NF05_list))\n",
    "binsf = np.linspace(0, 1, num=len(QF_05_list))\n",
    "\n",
    "binsnf1 = np.linspace(0, 1, num=len(QF_NF1_list))\n",
    "binsf1 = np.linspace(0, 1, num=len(QF_1_list))"
   ]
  },
  {
   "cell_type": "code",
   "execution_count": 241,
   "id": "5c702545-eda4-482e-9fe9-ab402e7775d3",
   "metadata": {
    "tags": []
   },
   "outputs": [],
   "source": [
    "bins= np.linspace(0, 1, num=50)"
   ]
  },
  {
   "cell_type": "code",
   "execution_count": 242,
   "id": "743f33b2-7686-4dda-b23e-0393e1ed65aa",
   "metadata": {
    "tags": []
   },
   "outputs": [
    {
     "data": {
      "image/png": "[encoded data removed]",
      "text/plain": [
       "<Figure size 900x500 with 2 Axes>"
      ]
     },
     "metadata": {},
     "output_type": "display_data"
    }
   ],
   "source": [
    "fig, ax = plt.subplots(1, 2, figsize=(9, 5))\n",
    "\n",
    "sns.histplot(data=df_05, x='QF', hue='state', \n",
    "             bins=bins, stat='proportion', element='step', \n",
    "             common_norm=False, ax=ax[0], multiple='layer', \n",
    "             shrink=0.8, edgecolor='white', cumulative=True, legend='')\n",
    "\n",
    "sns.histplot(data=df_1, x='QF', hue='state',\n",
    "             bins=bins, stat='proportion', element='step',\n",
    "             common_norm=False, ax=ax[1], multiple='layer', \n",
    "             shrink=0.8, edgecolor='white', cumulative=True, legend='')\n",
    "\n",
    "# Quitar etiquetas de ejes individuales\n",
    "ax[0].set_xlabel('')\n",
    "ax[0].set_ylabel('')\n",
    "ax[0].set_ylim(0,1.05)\n",
    "\n",
    "ax[1].set_xlabel('')\n",
    "ax[1].set_ylabel('')\n",
    "ax[1].set_ylim(0,1.05)\n",
    "# Etiqueta común en el eje x\n",
    "fig.supylabel('normalized number of halos per sample')\n",
    "fig.supxlabel('[cumulative] quenching fraction (% of quenched galaxies per halo)')\n",
    "\n",
    "plt.tight_layout()\n",
    "plt.show()"
   ]
  },
  {
   "cell_type": "code",
   "execution_count": 243,
   "id": "9a4ade6b-4f84-4ad1-a1c0-16a82ae6cb9e",
   "metadata": {
    "tags": []
   },
   "outputs": [
    {
     "name": "stderr",
     "output_type": "stream",
     "text": [
      "/tmp/ipykernel_769/3176813914.py:75: UserWarning: This figure includes Axes that are not compatible with tight_layout, so results might be incorrect.\n",
      "  plt.tight_layout()\n"
     ]
    },
    {
     "data": {
      "image/png": "[encoded data removed]",
      "text/plain": [
       "<Figure size 1200x600 with 4 Axes>"
      ]
     },
     "metadata": {},
     "output_type": "display_data"
    }
   ],
   "source": [
    "from matplotlib.gridspec import GridSpec\n",
    "\n",
    "palette = {'fósil': '#E69F00', 'no-fósil': '#56B4E9'}\n",
    "\n",
    "# Bins comunes para ambas comparaciones\n",
    "bins = np.linspace(0, 1, 50)\n",
    "bin_centers = 0.5 * (bins[1:] + bins[:-1])\n",
    "\n",
    "# Función para calcular histograma y diferencia\n",
    "def compute_hist_and_diff(df, bins):\n",
    "    fosil = df[df['state'] == 'fósil']['QF']\n",
    "    nofosil = df[df['state'] == 'no-fósil']['QF']\n",
    "    \n",
    "    h_fosil, _ = np.histogram(fosil, bins=bins, density=True)\n",
    "    h_nofosil, _ = np.histogram(nofosil, bins=bins, density=True)\n",
    "    \n",
    "    return fosil, nofosil, h_fosil, h_nofosil, h_fosil - h_nofosil\n",
    "\n",
    "# Calcular para ambas muestras\n",
    "f05, nf05, h_f05, h_nf05, diff_05 = compute_hist_and_diff(df_05, bins)\n",
    "f1, nf1, h_f1, h_nf1, diff_1 = compute_hist_and_diff(df_1, bins)\n",
    "\n",
    "# Crear figura con 2 columnas y 2 filas\n",
    "fig = plt.figure(figsize=(12, 6))\n",
    "gs = GridSpec(2, 2, height_ratios=[3, 1], hspace=0.05, wspace=0.15)\n",
    "\n",
    "# Panel 05\n",
    "ax_05_main = fig.add_subplot(gs[0, 0])\n",
    "ax_05_diff = fig.add_subplot(gs[1, 0], sharex=ax_05_main)\n",
    "\n",
    "sns.histplot(f05, bins=bins, stat='proportion', element='step', fill=True,\n",
    "             color=palette['fósil'], label='fósil', ax=ax_05_main, \n",
    "             cumulative=True, alpha=0.4)\n",
    "sns.histplot(nf05, bins=bins, stat='proportion', element='step', fill=True,\n",
    "             color=palette['no-fósil'], label='no-fósil', ax=ax_05_main, \n",
    "             cumulative=True, alpha=0.4)\n",
    "\n",
    "ax_05_diff.axhline(0, color='gray', linestyle='--', linewidth=1)\n",
    "ax_05_diff.scatter(bin_centers, diff_05, color='black')\n",
    "\n",
    "# Panel 1\n",
    "ax_1_main = fig.add_subplot(gs[0, 1])\n",
    "ax_1_diff = fig.add_subplot(gs[1, 1], sharex=ax_1_main)\n",
    "\n",
    "sns.histplot(f1, bins=bins, stat='proportion', element='step', fill=True,\n",
    "             color=palette['fósil'], label='fósil', ax=ax_1_main, \n",
    "             cumulative=True, alpha=0.5)\n",
    "sns.histplot(nf1, bins=bins, stat='proportion', element='step', fill=True,\n",
    "             color=palette['no-fósil'], label='no-fósil', ax=ax_1_main, \n",
    "             cumulative=True, alpha=0.5)\n",
    "\n",
    "ax_1_diff.axhline(0, color='gray', linestyle='--', linewidth=1)\n",
    "ax_1_diff.scatter(bin_centers, diff_1, color='black')\n",
    "\n",
    "# Etiquetas y leyenda\n",
    "ax_05_main.set_ylabel('normalized number of halos per sample')\n",
    "ax_05_diff.set_ylabel('Δ')\n",
    "fig.supxlabel('[cumulative] quenching fraction (% of quenched galaxies per halo)')\n",
    "\n",
    "\n",
    "# Limpiar etiquetas X arriba\n",
    "ax_05_main.set_xlabel('')\n",
    "ax_1_main.set_xlabel('')\n",
    "plt.setp(ax_05_main.get_xticklabels(), visible=False)\n",
    "plt.setp(ax_1_main.get_xticklabels(), visible=False)\n",
    "\n",
    "ax_1_main.set_ylabel('')\n",
    "ax_1_diff.set_ylabel('')\n",
    "\n",
    "ax_05_diff.set_ylim(-5.8, 5.8)\n",
    "ax_1_diff.set_ylim(-5.8, 5.8)\n",
    "# Leyenda solo en uno\n",
    "ax_05_main.legend(title='state', loc='upper left')\n",
    "\n",
    "plt.tight_layout()\n",
    "plt.show()"
   ]
  },
  {
   "cell_type": "code",
   "execution_count": 244,
   "id": "36ae2dcf-2177-43dd-90f0-0292613f23aa",
   "metadata": {},
   "outputs": [],
   "source": [
    "def compute_cdf_and_diff(df, bins):\n",
    "    fosil = df[df['state'] == 'fósil']['QF']\n",
    "    nofosil = df[df['state'] == 'no-fósil']['QF']\n",
    "    \n",
    "    # Histograma normalizado\n",
    "    h_fosil, _ = np.histogram(fosil, bins=bins, density=True)\n",
    "    h_nofosil, _ = np.histogram(nofosil, bins=bins, density=True)\n",
    "    \n",
    "    # CDF (suma acumulada de las proporciones)\n",
    "    cdf_fosil = np.cumsum(h_fosil * np.diff(bins))\n",
    "    cdf_nofosil = np.cumsum(h_nofosil * np.diff(bins))\n",
    "    \n",
    "    return fosil, nofosil, cdf_fosil, cdf_nofosil, cdf_fosil - cdf_nofosil"
   ]
  },
  {
   "cell_type": "code",
   "execution_count": 245,
   "id": "57f275e7-2cbb-45a3-b27e-f6a74762e2a2",
   "metadata": {
    "tags": []
   },
   "outputs": [
    {
     "name": "stderr",
     "output_type": "stream",
     "text": [
      "/tmp/ipykernel_769/1071167314.py:83: UserWarning: This figure includes Axes that are not compatible with tight_layout, so results might be incorrect.\n",
      "  plt.tight_layout()\n"
     ]
    },
    {
     "data": {
      "image/png": "[encoded data removed]",
      "text/plain": [
       "<Figure size 1200x600 with 4 Axes>"
      ]
     },
     "metadata": {},
     "output_type": "display_data"
    }
   ],
   "source": [
    "from matplotlib.gridspec import GridSpec\n",
    "\n",
    "palette = {'fósil': '#E69F00', 'no-fósil': '#56B4E9'}\n",
    "\n",
    "# Bins comunes para ambas comparaciones\n",
    "bins = np.linspace(0, 1, 50)\n",
    "bin_centers = 0.5 * (bins[1:] + bins[:-1])\n",
    "\n",
    "# Función para calcular histograma y diferencia\n",
    "def compute_cdf_and_diff(df, bins):\n",
    "    fosil = df[df['state'] == 'fósil']['QF']\n",
    "    nofosil = df[df['state'] == 'no-fósil']['QF']\n",
    "    \n",
    "    # Histograma normalizado\n",
    "    h_fosil, _ = np.histogram(fosil, bins=bins, density=True)\n",
    "    h_nofosil, _ = np.histogram(nofosil, bins=bins, density=True)\n",
    "    \n",
    "    # CDF (suma acumulada de las proporciones)\n",
    "    cdf_fosil = np.cumsum(h_fosil * np.diff(bins))\n",
    "    cdf_nofosil = np.cumsum(h_nofosil * np.diff(bins))\n",
    "    \n",
    "    return fosil, nofosil, cdf_fosil, cdf_nofosil, cdf_fosil - cdf_nofosil\n",
    "\n",
    "# Calcular para ambas muestras con CDF\n",
    "f05, nf05, cdf_f05, cdf_nf05, diff_05 = compute_cdf_and_diff(df_05, bins)\n",
    "f1, nf1, cdf_f1, cdf_nf1, diff_1 = compute_cdf_and_diff(df_1, bins)\n",
    "\n",
    "\n",
    "# Crear figura con 2 columnas y 2 filas\n",
    "fig = plt.figure(figsize=(12, 6))\n",
    "gs = GridSpec(2, 2, height_ratios=[3, 1], hspace=0.05, wspace=0.15)\n",
    "\n",
    "# Panel 05\n",
    "ax_05_main = fig.add_subplot(gs[0, 0])\n",
    "ax_05_diff = fig.add_subplot(gs[1, 0], sharex=ax_05_main)\n",
    "\n",
    "sns.histplot(f05, bins=bins, stat='proportion', element='step', fill=True,\n",
    "             color=palette['fósil'], label='fósil', ax=ax_05_main, \n",
    "             cumulative=True, alpha=0.4)\n",
    "sns.histplot(nf05, bins=bins, stat='proportion', element='step', fill=True,\n",
    "             color=palette['no-fósil'], label='no-fósil', ax=ax_05_main, \n",
    "             cumulative=True, alpha=0.4)\n",
    "\n",
    "ax_05_diff.axhline(0, color='gray', linestyle='--', linewidth=1)\n",
    "ax_05_diff.scatter(bin_centers, diff_05, color='black', s=10, marker='d')\n",
    "\n",
    "# Panel 1\n",
    "ax_1_main = fig.add_subplot(gs[0, 1])\n",
    "ax_1_diff = fig.add_subplot(gs[1, 1], sharex=ax_1_main)\n",
    "\n",
    "sns.histplot(f1, bins=bins, stat='proportion', element='step', fill=True,\n",
    "             color=palette['fósil'], label='fósil', ax=ax_1_main, \n",
    "             cumulative=True, alpha=0.5)\n",
    "sns.histplot(nf1, bins=bins, stat='proportion', element='step', fill=True,\n",
    "             color=palette['no-fósil'], label='no-fósil', ax=ax_1_main, \n",
    "             cumulative=True, alpha=0.5)\n",
    "\n",
    "ax_1_diff.axhline(0, color='gray', linestyle='--', linewidth=1)\n",
    "ax_1_diff.scatter(bin_centers, diff_1, color='black', s=10, marker='d')\n",
    "\n",
    "\n",
    "# Etiquetas y leyenda\n",
    "ax_05_main.set_ylabel('normalized number of halos per sample')\n",
    "ax_05_diff.set_ylabel('Δ')\n",
    "fig.supxlabel('[cumulative] quenching fraction (% of quenched galaxies per halo)')\n",
    "\n",
    "\n",
    "# Limpiar etiquetas X arriba\n",
    "ax_05_main.set_xlabel('')\n",
    "ax_1_main.set_xlabel('')\n",
    "plt.setp(ax_05_main.get_xticklabels(), visible=False)\n",
    "plt.setp(ax_1_main.get_xticklabels(), visible=False)\n",
    "\n",
    "ax_1_main.set_ylabel('')\n",
    "ax_1_diff.set_ylabel('')\n",
    "\n",
    "ax_05_diff.set_ylim(-1, 1)\n",
    "ax_1_diff.set_ylim(-1, 1)\n",
    "# Leyenda solo en uno\n",
    "ax_05_main.legend(title='state', loc='upper left')\n",
    "\n",
    "\n",
    "plt.tight_layout()\n",
    "plt.show()\n"
   ]
  },
  {
   "cell_type": "markdown",
   "id": "947c20d4-6521-43b4-bb2b-4fae8f55633e",
   "metadata": {},
   "source": [
    "## ks-tests"
   ]
  },
  {
   "cell_type": "code",
   "execution_count": 246,
   "id": "f09098e4-9040-48bc-a238-5f176a7ae4ae",
   "metadata": {},
   "outputs": [],
   "source": [
    "from scipy.stats import kstest\n",
    "from scipy.stats import ks_2samp"
   ]
  },
  {
   "cell_type": "code",
   "execution_count": 247,
   "id": "4a7105eb-8f6d-4e46-b1d1-5e9aceed5adc",
   "metadata": {},
   "outputs": [
    {
     "name": "stdout",
     "output_type": "stream",
     "text": [
      "KstestResult(statistic=0.5919987784394564, pvalue=3.9373149920281553e-13, statistic_location=0.6204379562043796, statistic_sign=-1)\n",
      "KstestResult(statistic=0.5919987784394564, pvalue=1.9686574960139698e-13, statistic_location=0.6204379562043796, statistic_sign=-1)\n"
     ]
    }
   ],
   "source": [
    "print(ks_2samp(QF_05_list, QF_NF05_list))\n",
    "print(ks_2samp(QF_05_list, QF_NF05_list, alternative='less'))"
   ]
  },
  {
   "cell_type": "code",
   "execution_count": 248,
   "id": "f3f74091-9ff0-4e2d-8b4f-9897965b2773",
   "metadata": {
    "tags": []
   },
   "outputs": [
    {
     "name": "stdout",
     "output_type": "stream",
     "text": [
      "KstestResult(statistic=0.3779448621553885, pvalue=3.2700386344632654e-06, statistic_location=0.5403225806451613, statistic_sign=-1)\n",
      "KstestResult(statistic=0.3779448621553885, pvalue=1.6350193172313487e-06, statistic_location=0.5403225806451613, statistic_sign=-1)\n"
     ]
    }
   ],
   "source": [
    "print(ks_2samp(QF_1_list, QF_NF1_list))\n",
    "print(ks_2samp(QF_1_list, QF_NF1_list, alternative='less'))"
   ]
  },
  {
   "cell_type": "markdown",
   "id": "db665d4b-ff83-4873-9738-9767f93b3a96",
   "metadata": {},
   "source": [
    "## lopes+2024"
   ]
  },
  {
   "cell_type": "code",
   "execution_count": 249,
   "id": "5bf9f1dd-271b-43a4-8617-5996b0d6b5c8",
   "metadata": {
    "tags": []
   },
   "outputs": [],
   "source": [
    "def compute_Rnorm_for_group(id_sats_group, id_central_group, subhalo_pos, r200, box_size):\n",
    "    pos_sats = subhalo_pos[id_sats_group] / h\n",
    "    pos_central = subhalo_pos[id_central_group] / h\n",
    "\n",
    "    x = pos_sats[:, 0]\n",
    "    y = pos_sats[:, 1]\n",
    "    z = pos_sats[:, 2]\n",
    "\n",
    "    xc = Distance_1D(x, pos_central[0], box_size)\n",
    "    yc = Distance_1D(y, pos_central[1], box_size)\n",
    "    zc = Distance_1D(z, pos_central[2], box_size)\n",
    "\n",
    "    normpos = np.sqrt(xc**2 + yc**2 + zc**2) / r200\n",
    "    return normpos\n"
   ]
  },
  {
   "cell_type": "code",
   "execution_count": 250,
   "id": "9682d055-c32f-4789-bae4-dd83d6874d39",
   "metadata": {
    "tags": []
   },
   "outputs": [],
   "source": [
    "box_size = 75000 / h  # el tamaño de la caja ya normalizado\n",
    "subhalo_pos = subhalos['SubhaloPos']\n",
    "group_r200s = halos['Group_R_Crit200']\n",
    "\n",
    "for d, df_dict, label in zip(\n",
    "    [df_groups['05FossilR200'], df_groups['1FossilR200']],\n",
    "    [F05sSFR_dict, NF05sSFR_dict],\n",
    "    ['fósil', 'no-fósil']\n",
    "):\n",
    "    for group_id in df_dict:\n",
    "        group_mask = df_sats_05['group_index'] == group_id  # o df_sats_1 si es F1sSFR_dict\n",
    "        id_sats_group = np.where(group_mask)[0]\n",
    "        if len(id_sats_group) < 2:\n",
    "            continue  # saltar grupos mal definidos\n",
    "\n",
    "        id_central = id_sats_group[0]\n",
    "        id_sats_only = id_sats_group[1:]  # solo satélites\n",
    "\n",
    "        r200_index = group_id\n",
    "        r200 = group_r200s[r200_index] / h\n",
    "\n",
    "        rnorm = compute_Rnorm_for_group(\n",
    "            id_sats_only,\n",
    "            id_central,\n",
    "            subhalo_pos,\n",
    "            r200,\n",
    "            box_size\n",
    "        )\n",
    "\n",
    "        # Agregar al diccionario\n",
    "        df_dict[group_id]['Rnorm'] = rnorm\n"
   ]
  },
  {
   "cell_type": "code",
   "execution_count": 305,
   "id": "d994437a-5c5f-4848-96b9-8cffb411a035",
   "metadata": {
    "tags": []
   },
   "outputs": [
    {
     "name": "stdout",
     "output_type": "stream",
     "text": [
      "Entry 0: members, type: <class 'str'>\n",
      "Entry 1: QF, type: <class 'str'>\n",
      "Entry 2: Rnorm, type: <class 'str'>\n"
     ]
    }
   ],
   "source": [
    "entries = F05sSFR_dict[0]\n",
    "for i, e in enumerate(F05sSFR_dict[0]):\n",
    "    print(f\"Entry {i}: {e}, type: {type(e)}\")\n"
   ]
  },
  {
   "cell_type": "code",
   "execution_count": 300,
   "id": "a043d2b0-0dda-4be2-a2c7-4f44035d767b",
   "metadata": {
    "tags": []
   },
   "outputs": [],
   "source": [
    "def plot_sSFR_vs_Rnorm(group_id, sSFR_dict, centrals_df, subhalo_pos, r200_array, box_size):\n",
    "    entries = sSFR_dict[group_id]\n",
    "\n",
    "    if len(entries) == 0:\n",
    "        return\n",
    "\n",
    "    # IDs de subhalos satélites\n",
    "    entries = [dict(e) for e in sSFR_dict[group_id]]\n",
    "    sat_ids = [entry['subhalo_id'] for entry in entries]\n",
    "    ssfr_vals = [entry['sSFR'] for entry in entries]\n",
    "\n",
    "    # Central: asumimos el primer miembro del grupo en el df original\n",
    "    group_mask = centrals_df['group_index'] == group_id\n",
    "    central_id = np.where(group_mask)[0][0]\n",
    "    central_pos = subhalo_pos[central_id] / h\n",
    "\n",
    "    # Posiciones de satélites\n",
    "    pos_sats = subhalo_pos[sat_ids] / h\n",
    "    x, y, z = pos_sats[:, 0], pos_sats[:, 1], pos_sats[:, 2]\n",
    "\n",
    "    xc = Distance_1D(x, central_pos[0], box_size)\n",
    "    yc = Distance_1D(y, central_pos[1], box_size)\n",
    "    zc = Distance_1D(z, central_pos[2], box_size)\n",
    "\n",
    "    r_norm = np.sqrt(xc**2 + yc**2 + zc**2) / (r200_array[group_id] / h)\n",
    "\n",
    "    # Graficar\n",
    "    fig, ax = plt.subplots(figsize=(6, 4))\n",
    "    ax.scatter(r_norm, ssfr_vals, s=10, alpha=0.7)\n",
    "    ax.set_yscale('log')\n",
    "    ax.set_xlim(0, 2)\n",
    "    ax.set_xlabel('R / R200')\n",
    "    ax.set_ylabel('sSFR [1/yr]')\n",
    "    ax.set_title(f'Grupo fósil {group_id}')\n",
    "    plt.tight_layout()\n",
    "\n",
    "    # Guardar imagen\n",
    "    plt.savefig(f\"sSFR_vs_Rnorm_group_{group_id}.png\", dpi=300)\n",
    "\n",
    "    plt.show()\n"
   ]
  },
  {
   "cell_type": "code",
   "execution_count": 301,
   "id": "73d59efd-10e7-43b5-9a67-234c37e3f9f9",
   "metadata": {
    "tags": []
   },
   "outputs": [
    {
     "ename": "ValueError",
     "evalue": "dictionary update sequence element #0 has length 1; 2 is required",
     "output_type": "error",
     "traceback": [
      "\u001b[0;31m---------------------------------------------------------------------------\u001b[0m",
      "\u001b[0;31mValueError\u001b[0m                                Traceback (most recent call last)",
      "Cell \u001b[0;32mIn[301], line 4\u001b[0m\n\u001b[1;32m      1\u001b[0m box_size \u001b[38;5;241m=\u001b[39m \u001b[38;5;241m75000\u001b[39m \u001b[38;5;241m/\u001b[39m h  \u001b[38;5;66;03m# tamaño caja en Mpc/h\u001b[39;00m\n\u001b[1;32m      2\u001b[0m r200_fosiles \u001b[38;5;241m=\u001b[39m halos[\u001b[38;5;124m'\u001b[39m\u001b[38;5;124mGroup_R_Crit200\u001b[39m\u001b[38;5;124m'\u001b[39m]  \u001b[38;5;66;03m# indexado por group_id\u001b[39;00m\n\u001b[0;32m----> 4\u001b[0m \u001b[43mplot_sSFR_vs_Rnorm\u001b[49m\u001b[43m(\u001b[49m\n\u001b[1;32m      5\u001b[0m \u001b[43m    \u001b[49m\u001b[43mgroup_id\u001b[49m\u001b[38;5;241;43m=\u001b[39;49m\u001b[43mF05r200\u001b[49m\u001b[43m[\u001b[49m\u001b[38;5;241;43m0\u001b[39;49m\u001b[43m]\u001b[49m\u001b[43m,\u001b[49m\n\u001b[1;32m      6\u001b[0m \u001b[43m    \u001b[49m\u001b[43msSFR_dict\u001b[49m\u001b[38;5;241;43m=\u001b[39;49m\u001b[43mF05sSFR_dict\u001b[49m\u001b[43m,\u001b[49m\n\u001b[1;32m      7\u001b[0m \u001b[43m    \u001b[49m\u001b[43mcentrals_df\u001b[49m\u001b[38;5;241;43m=\u001b[39;49m\u001b[43mdf_sats_05\u001b[49m\u001b[43m,\u001b[49m\n\u001b[1;32m      8\u001b[0m \u001b[43m    \u001b[49m\u001b[43msubhalo_pos\u001b[49m\u001b[38;5;241;43m=\u001b[39;49m\u001b[43msubhalos\u001b[49m\u001b[43m[\u001b[49m\u001b[38;5;124;43m'\u001b[39;49m\u001b[38;5;124;43mSubhaloPos\u001b[39;49m\u001b[38;5;124;43m'\u001b[39;49m\u001b[43m]\u001b[49m\u001b[43m,\u001b[49m\n\u001b[1;32m      9\u001b[0m \u001b[43m    \u001b[49m\u001b[43mr200_array\u001b[49m\u001b[38;5;241;43m=\u001b[39;49m\u001b[43mr200_fosiles\u001b[49m\u001b[43m,\u001b[49m\n\u001b[1;32m     10\u001b[0m \u001b[43m    \u001b[49m\u001b[43mbox_size\u001b[49m\u001b[38;5;241;43m=\u001b[39;49m\u001b[43mbox_size\u001b[49m\n\u001b[1;32m     11\u001b[0m \u001b[43m)\u001b[49m\n",
      "Cell \u001b[0;32mIn[300], line 8\u001b[0m, in \u001b[0;36mplot_sSFR_vs_Rnorm\u001b[0;34m(group_id, sSFR_dict, centrals_df, subhalo_pos, r200_array, box_size)\u001b[0m\n\u001b[1;32m      5\u001b[0m     \u001b[38;5;28;01mreturn\u001b[39;00m\n\u001b[1;32m      7\u001b[0m \u001b[38;5;66;03m# IDs de subhalos satélites\u001b[39;00m\n\u001b[0;32m----> 8\u001b[0m entries \u001b[38;5;241m=\u001b[39m \u001b[43m[\u001b[49m\u001b[38;5;28;43mdict\u001b[39;49m\u001b[43m(\u001b[49m\u001b[43me\u001b[49m\u001b[43m)\u001b[49m\u001b[43m \u001b[49m\u001b[38;5;28;43;01mfor\u001b[39;49;00m\u001b[43m \u001b[49m\u001b[43me\u001b[49m\u001b[43m \u001b[49m\u001b[38;5;129;43;01min\u001b[39;49;00m\u001b[43m \u001b[49m\u001b[43msSFR_dict\u001b[49m\u001b[43m[\u001b[49m\u001b[43mgroup_id\u001b[49m\u001b[43m]\u001b[49m\u001b[43m]\u001b[49m\n\u001b[1;32m      9\u001b[0m sat_ids \u001b[38;5;241m=\u001b[39m [entry[\u001b[38;5;124m'\u001b[39m\u001b[38;5;124msubhalo_id\u001b[39m\u001b[38;5;124m'\u001b[39m] \u001b[38;5;28;01mfor\u001b[39;00m entry \u001b[38;5;129;01min\u001b[39;00m entries]\n\u001b[1;32m     10\u001b[0m ssfr_vals \u001b[38;5;241m=\u001b[39m [entry[\u001b[38;5;124m'\u001b[39m\u001b[38;5;124msSFR\u001b[39m\u001b[38;5;124m'\u001b[39m] \u001b[38;5;28;01mfor\u001b[39;00m entry \u001b[38;5;129;01min\u001b[39;00m entries]\n",
      "Cell \u001b[0;32mIn[300], line 8\u001b[0m, in \u001b[0;36m<listcomp>\u001b[0;34m(.0)\u001b[0m\n\u001b[1;32m      5\u001b[0m     \u001b[38;5;28;01mreturn\u001b[39;00m\n\u001b[1;32m      7\u001b[0m \u001b[38;5;66;03m# IDs de subhalos satélites\u001b[39;00m\n\u001b[0;32m----> 8\u001b[0m entries \u001b[38;5;241m=\u001b[39m [\u001b[38;5;28;43mdict\u001b[39;49m\u001b[43m(\u001b[49m\u001b[43me\u001b[49m\u001b[43m)\u001b[49m \u001b[38;5;28;01mfor\u001b[39;00m e \u001b[38;5;129;01min\u001b[39;00m sSFR_dict[group_id]]\n\u001b[1;32m      9\u001b[0m sat_ids \u001b[38;5;241m=\u001b[39m [entry[\u001b[38;5;124m'\u001b[39m\u001b[38;5;124msubhalo_id\u001b[39m\u001b[38;5;124m'\u001b[39m] \u001b[38;5;28;01mfor\u001b[39;00m entry \u001b[38;5;129;01min\u001b[39;00m entries]\n\u001b[1;32m     10\u001b[0m ssfr_vals \u001b[38;5;241m=\u001b[39m [entry[\u001b[38;5;124m'\u001b[39m\u001b[38;5;124msSFR\u001b[39m\u001b[38;5;124m'\u001b[39m] \u001b[38;5;28;01mfor\u001b[39;00m entry \u001b[38;5;129;01min\u001b[39;00m entries]\n",
      "\u001b[0;31mValueError\u001b[0m: dictionary update sequence element #0 has length 1; 2 is required"
     ]
    }
   ],
   "source": [
    "box_size = 75000 / h  # tamaño caja en Mpc/h\n",
    "r200_fosiles = halos['Group_R_Crit200']  # indexado por group_id\n",
    "\n",
    "plot_sSFR_vs_Rnorm(\n",
    "    group_id=F05r200[0],\n",
    "    sSFR_dict=F05sSFR_dict,\n",
    "    centrals_df=df_sats_05,\n",
    "    subhalo_pos=subhalos['SubhaloPos'],\n",
    "    r200_array=r200_fosiles,\n",
    "    box_size=box_size\n",
    ")"
   ]
  },
  {
   "cell_type": "code",
   "execution_count": 260,
   "id": "fa08d656-04d6-435a-8934-82a12700d1f8",
   "metadata": {
    "tags": []
   },
   "outputs": [
    {
     "data": {
      "text/plain": [
       "{'members': [{'subhalo_id': 1, 'sSFR': 7.396047993376852e-13},\n",
       "  {'subhalo_id': 2, 'sSFR': 2.7732587508559227e-11},\n",
       "  {'subhalo_id': 3, 'sSFR': 2.960848733425141e-11},\n",
       "  {'subhalo_id': 4, 'sSFR': 1.0609610116481781e-11},\n",
       "  {'subhalo_id': 5, 'sSFR': 4.613883214741946e-12},\n",
       "  {'subhalo_id': 6, 'sSFR': 7.548547082841397e-12},\n",
       "  {'subhalo_id': 7, 'sSFR': 0.0},\n",
       "  {'subhalo_id': 8, 'sSFR': 0.0},\n",
       "  {'subhalo_id': 9, 'sSFR': 0.0},\n",
       "  {'subhalo_id': 10, 'sSFR': 6.167646179795266e-12},\n",
       "  {'subhalo_id': 11, 'sSFR': 0.0},\n",
       "  {'subhalo_id': 12, 'sSFR': 0.0},\n",
       "  {'subhalo_id': 13, 'sSFR': 0.0},\n",
       "  {'subhalo_id': 14, 'sSFR': 0.0},\n",
       "  {'subhalo_id': 15, 'sSFR': 1.820208636391908e-13},\n",
       "  {'subhalo_id': 16, 'sSFR': 0.0},\n",
       "  {'subhalo_id': 17, 'sSFR': 7.420384739711881e-13},\n",
       "  {'subhalo_id': 18, 'sSFR': 2.0279717161785812e-13},\n",
       "  {'subhalo_id': 19, 'sSFR': 0.0},\n",
       "  {'subhalo_id': 20, 'sSFR': 1.0774401483535768e-11},\n",
       "  {'subhalo_id': 21, 'sSFR': 0.0},\n",
       "  {'subhalo_id': 22, 'sSFR': 0.0},\n",
       "  {'subhalo_id': 23, 'sSFR': 0.0},\n",
       "  {'subhalo_id': 24, 'sSFR': 1.2385400014400483e-10},\n",
       "  {'subhalo_id': 25, 'sSFR': 0.0},\n",
       "  {'subhalo_id': 26, 'sSFR': 0.0},\n",
       "  {'subhalo_id': 27, 'sSFR': 0.0},\n",
       "  {'subhalo_id': 28, 'sSFR': 0.0},\n",
       "  {'subhalo_id': 29, 'sSFR': 2.010348488688469e-12},\n",
       "  {'subhalo_id': 30, 'sSFR': 0.0},\n",
       "  {'subhalo_id': 31, 'sSFR': 0.0},\n",
       "  {'subhalo_id': 32, 'sSFR': 1.0236186919212342e-11},\n",
       "  {'subhalo_id': 33, 'sSFR': 0.0},\n",
       "  {'subhalo_id': 34, 'sSFR': 0.0},\n",
       "  {'subhalo_id': 35, 'sSFR': 0.0},\n",
       "  {'subhalo_id': 36, 'sSFR': 1.5735995835363865e-11},\n",
       "  {'subhalo_id': 37, 'sSFR': 1.68420184879303e-10},\n",
       "  {'subhalo_id': 38, 'sSFR': 5.232534208148718e-12},\n",
       "  {'subhalo_id': 39, 'sSFR': 0.0},\n",
       "  {'subhalo_id': 40, 'sSFR': 0.0},\n",
       "  {'subhalo_id': 41, 'sSFR': 1.620252591276169e-10},\n",
       "  {'subhalo_id': 42, 'sSFR': 2.837868037891388e-10},\n",
       "  {'subhalo_id': 43, 'sSFR': 7.38135393834114e-11},\n",
       "  {'subhalo_id': 44, 'sSFR': 0.0},\n",
       "  {'subhalo_id': 45, 'sSFR': 0.0},\n",
       "  {'subhalo_id': 46, 'sSFR': 0.0},\n",
       "  {'subhalo_id': 47, 'sSFR': 0.0},\n",
       "  {'subhalo_id': 48, 'sSFR': 1.6807385410308838e-10},\n",
       "  {'subhalo_id': 49, 'sSFR': 0.0},\n",
       "  {'subhalo_id': 50, 'sSFR': 1.2843091542720795e-11},\n",
       "  {'subhalo_id': 51, 'sSFR': 1.6853921387672426e-10},\n",
       "  {'subhalo_id': 52, 'sSFR': 1.9412727071642877e-11},\n",
       "  {'subhalo_id': 53, 'sSFR': 0.0},\n",
       "  {'subhalo_id': 54, 'sSFR': 1.109900664138794e-10},\n",
       "  {'subhalo_id': 55, 'sSFR': 0.0},\n",
       "  {'subhalo_id': 56, 'sSFR': 0.0},\n",
       "  {'subhalo_id': 57, 'sSFR': 0.0},\n",
       "  {'subhalo_id': 58, 'sSFR': 0.0},\n",
       "  {'subhalo_id': 59, 'sSFR': 0.0},\n",
       "  {'subhalo_id': 60, 'sSFR': 0.0},\n",
       "  {'subhalo_id': 61, 'sSFR': 3.2653241416811944e-11},\n",
       "  {'subhalo_id': 62, 'sSFR': 3.858196555137635e-11},\n",
       "  {'subhalo_id': 63, 'sSFR': 0.0},\n",
       "  {'subhalo_id': 64, 'sSFR': 7.005844907283783e-11},\n",
       "  {'subhalo_id': 65, 'sSFR': 0.0},\n",
       "  {'subhalo_id': 66, 'sSFR': 0.0},\n",
       "  {'subhalo_id': 67, 'sSFR': 0.0},\n",
       "  {'subhalo_id': 68, 'sSFR': 0.0},\n",
       "  {'subhalo_id': 69, 'sSFR': 8.016779016494751e-11},\n",
       "  {'subhalo_id': 70, 'sSFR': 0.0},\n",
       "  {'subhalo_id': 71, 'sSFR': 4.215989525020122e-12},\n",
       "  {'subhalo_id': 72, 'sSFR': 2.0064755241394044e-10},\n",
       "  {'subhalo_id': 73, 'sSFR': 2.896403646245599e-12},\n",
       "  {'subhalo_id': 74, 'sSFR': 0.0},\n",
       "  {'subhalo_id': 75, 'sSFR': 0.0},\n",
       "  {'subhalo_id': 76, 'sSFR': 0.0},\n",
       "  {'subhalo_id': 77, 'sSFR': 0.0},\n",
       "  {'subhalo_id': 78, 'sSFR': 0.0},\n",
       "  {'subhalo_id': 79, 'sSFR': 0.0},\n",
       "  {'subhalo_id': 80, 'sSFR': 0.0},\n",
       "  {'subhalo_id': 81, 'sSFR': 0.0},\n",
       "  {'subhalo_id': 82, 'sSFR': 1.0994292617082596e-10},\n",
       "  {'subhalo_id': 83, 'sSFR': 0.0},\n",
       "  {'subhalo_id': 84, 'sSFR': 1.0358074550628662e-10},\n",
       "  {'subhalo_id': 85, 'sSFR': 0.0},\n",
       "  {'subhalo_id': 86, 'sSFR': 1.600321553081274e-11},\n",
       "  {'subhalo_id': 87, 'sSFR': 0.0},\n",
       "  {'subhalo_id': 88, 'sSFR': 1.1330424368619919e-10},\n",
       "  {'subhalo_id': 89, 'sSFR': 0.0},\n",
       "  {'subhalo_id': 90, 'sSFR': 0.0},\n",
       "  {'subhalo_id': 91, 'sSFR': 0.0},\n",
       "  {'subhalo_id': 92, 'sSFR': 0.0},\n",
       "  {'subhalo_id': 93, 'sSFR': 0.0},\n",
       "  {'subhalo_id': 94, 'sSFR': 0.0},\n",
       "  {'subhalo_id': 95, 'sSFR': 7.926734670102596e-12},\n",
       "  {'subhalo_id': 96, 'sSFR': 0.0},\n",
       "  {'subhalo_id': 97, 'sSFR': 3.380232547402382e-11},\n",
       "  {'subhalo_id': 98, 'sSFR': 5.6281577467918396e-11},\n",
       "  {'subhalo_id': 99, 'sSFR': 0.0},\n",
       "  {'subhalo_id': 100, 'sSFR': 0.0},\n",
       "  {'subhalo_id': 101, 'sSFR': 0.0},\n",
       "  {'subhalo_id': 102, 'sSFR': 1.83948785405159e-10},\n",
       "  {'subhalo_id': 103, 'sSFR': 0.0},\n",
       "  {'subhalo_id': 104, 'sSFR': 2.9026759353876114e-11},\n",
       "  {'subhalo_id': 105, 'sSFR': 0.0},\n",
       "  {'subhalo_id': 106, 'sSFR': 2.586727028131485e-11},\n",
       "  {'subhalo_id': 107, 'sSFR': 0.0},\n",
       "  {'subhalo_id': 108, 'sSFR': 0.0},\n",
       "  {'subhalo_id': 109, 'sSFR': 0.0},\n",
       "  {'subhalo_id': 110, 'sSFR': 0.0},\n",
       "  {'subhalo_id': 111, 'sSFR': 1.0611576436758042e-10},\n",
       "  {'subhalo_id': 112, 'sSFR': 9.906940316855908e-12},\n",
       "  {'subhalo_id': 113, 'sSFR': 1.739210526609421e-10},\n",
       "  {'subhalo_id': 114, 'sSFR': 0.0},\n",
       "  {'subhalo_id': 115, 'sSFR': 3.3089663981437683e-10},\n",
       "  {'subhalo_id': 116, 'sSFR': 4.0733276593208313e-10},\n",
       "  {'subhalo_id': 117, 'sSFR': 0.0},\n",
       "  {'subhalo_id': 118, 'sSFR': 1.7955341760635378e-10},\n",
       "  {'subhalo_id': 119, 'sSFR': 1.0022311837434769e-10},\n",
       "  {'subhalo_id': 120, 'sSFR': 0.0},\n",
       "  {'subhalo_id': 121, 'sSFR': 0.0},\n",
       "  {'subhalo_id': 122, 'sSFR': 8.523279701471329e-11},\n",
       "  {'subhalo_id': 123, 'sSFR': 4.561764523029328e-11},\n",
       "  {'subhalo_id': 124, 'sSFR': 0.0},\n",
       "  {'subhalo_id': 125, 'sSFR': 3.71171788816452e-10},\n",
       "  {'subhalo_id': 126, 'sSFR': 1.8761928760528564e-10},\n",
       "  {'subhalo_id': 127, 'sSFR': 0.0},\n",
       "  {'subhalo_id': 128, 'sSFR': 0.0},\n",
       "  {'subhalo_id': 129, 'sSFR': 0.0},\n",
       "  {'subhalo_id': 130, 'sSFR': 7.208626530915499e-12},\n",
       "  {'subhalo_id': 131, 'sSFR': 0.0},\n",
       "  {'subhalo_id': 132, 'sSFR': 3.638354276776314e-11},\n",
       "  {'subhalo_id': 133, 'sSFR': 0.0},\n",
       "  {'subhalo_id': 134, 'sSFR': 0.0},\n",
       "  {'subhalo_id': 135, 'sSFR': 4.050799443125725e-11},\n",
       "  {'subhalo_id': 136, 'sSFR': 1.8393885286331178e-10},\n",
       "  {'subhalo_id': 137, 'sSFR': 0.0},\n",
       "  {'subhalo_id': 138, 'sSFR': 3.614623173236847e-10},\n",
       "  {'subhalo_id': 139, 'sSFR': 1.0140932227849961e-10},\n",
       "  {'subhalo_id': 140, 'sSFR': 2.0141622213721276e-11},\n",
       "  {'subhalo_id': 141, 'sSFR': 0.0},\n",
       "  {'subhalo_id': 142, 'sSFR': 2.453081447482109e-11},\n",
       "  {'subhalo_id': 143, 'sSFR': 8.38230866932869e-11},\n",
       "  {'subhalo_id': 144, 'sSFR': 1.650641001176834e-10},\n",
       "  {'subhalo_id': 145, 'sSFR': 0.0},\n",
       "  {'subhalo_id': 146, 'sSFR': 0.0},\n",
       "  {'subhalo_id': 147, 'sSFR': 0.0},\n",
       "  {'subhalo_id': 148, 'sSFR': 4.821578822135926e-10},\n",
       "  {'subhalo_id': 149, 'sSFR': 0.0},\n",
       "  {'subhalo_id': 150, 'sSFR': 1.1043035859614611e-12},\n",
       "  {'subhalo_id': 151, 'sSFR': 1.7247426084995272e-10},\n",
       "  {'subhalo_id': 152, 'sSFR': 0.0},\n",
       "  {'subhalo_id': 153, 'sSFR': 1.205982273677364e-13},\n",
       "  {'subhalo_id': 154, 'sSFR': 0.0},\n",
       "  {'subhalo_id': 155, 'sSFR': 0.0},\n",
       "  {'subhalo_id': 156, 'sSFR': 0.0},\n",
       "  {'subhalo_id': 157, 'sSFR': 0.0},\n",
       "  {'subhalo_id': 158, 'sSFR': 0.0},\n",
       "  {'subhalo_id': 159, 'sSFR': 0.0},\n",
       "  {'subhalo_id': 160, 'sSFR': 0.0},\n",
       "  {'subhalo_id': 161, 'sSFR': 0.0},\n",
       "  {'subhalo_id': 162, 'sSFR': 0.0},\n",
       "  {'subhalo_id': 163, 'sSFR': 1.728109659433365e-10},\n",
       "  {'subhalo_id': 164, 'sSFR': 0.0},\n",
       "  {'subhalo_id': 165, 'sSFR': 0.0},\n",
       "  {'subhalo_id': 166, 'sSFR': 0.0},\n",
       "  {'subhalo_id': 167, 'sSFR': 0.0},\n",
       "  {'subhalo_id': 168, 'sSFR': 0.0},\n",
       "  {'subhalo_id': 169, 'sSFR': 1.0721801002979279e-10},\n",
       "  {'subhalo_id': 170, 'sSFR': 0.0},\n",
       "  {'subhalo_id': 171, 'sSFR': 0.0},\n",
       "  {'subhalo_id': 172, 'sSFR': 0.0},\n",
       "  {'subhalo_id': 173, 'sSFR': 5.114664713859558e-11},\n",
       "  {'subhalo_id': 174, 'sSFR': 0.0},\n",
       "  {'subhalo_id': 175, 'sSFR': 0.0},\n",
       "  {'subhalo_id': 176, 'sSFR': 0.0},\n",
       "  {'subhalo_id': 177, 'sSFR': 0.0},\n",
       "  {'subhalo_id': 178, 'sSFR': 0.0},\n",
       "  {'subhalo_id': 179, 'sSFR': 0.0},\n",
       "  {'subhalo_id': 180, 'sSFR': 9.299381873130799e-11},\n",
       "  {'subhalo_id': 181, 'sSFR': 0.0},\n",
       "  {'subhalo_id': 182, 'sSFR': 0.0},\n",
       "  {'subhalo_id': 183, 'sSFR': 2.8854690179228783e-11},\n",
       "  {'subhalo_id': 184, 'sSFR': 3.473193871378899e-11},\n",
       "  {'subhalo_id': 185, 'sSFR': 0.0},\n",
       "  {'subhalo_id': 186, 'sSFR': 0.0},\n",
       "  {'subhalo_id': 187, 'sSFR': 4.0457956223487856e-11},\n",
       "  {'subhalo_id': 188, 'sSFR': 0.0},\n",
       "  {'subhalo_id': 189, 'sSFR': 0.0},\n",
       "  {'subhalo_id': 190, 'sSFR': 0.0},\n",
       "  {'subhalo_id': 191, 'sSFR': 8.263024494409561e-11},\n",
       "  {'subhalo_id': 192, 'sSFR': 0.0},\n",
       "  {'subhalo_id': 193, 'sSFR': 8.865186862707138e-11},\n",
       "  {'subhalo_id': 194, 'sSFR': 0.0}],\n",
       " 'QF': 0.6907216494845361,\n",
       " 'Rnorm': array([2.2520247 , 0.86319053, 2.4229174 , 2.6986873 , 0.9055965 ,\n",
       "        0.538777  , 1.1834749 , 0.84604627, 0.50290084, 0.63287616,\n",
       "        0.23104113, 1.7532856 , 0.7246857 , 0.56660116, 2.6775465 ,\n",
       "        1.1013386 , 2.3593593 , 1.2477381 , 0.25162786, 2.108732  ,\n",
       "        0.27025858, 0.65341485, 2.226703  , 1.9176061 , 1.0076226 ,\n",
       "        1.4346328 , 1.3428675 , 2.4937663 , 1.882311  , 0.910947  ,\n",
       "        0.14768341, 0.81353384, 1.3502309 , 0.9304641 , 0.6269961 ,\n",
       "        1.6304187 , 1.4274324 , 1.567178  , 1.1136745 , 0.7337117 ,\n",
       "        2.3528976 , 2.4221425 , 2.608112  , 1.4960408 , 0.28323737,\n",
       "        1.1220645 , 0.38950446, 2.6938782 , 1.9982381 , 2.665534  ,\n",
       "        2.0384207 , 0.7503134 , 0.6675744 , 1.4769129 , 2.19268   ,\n",
       "        0.8082335 , 0.6179426 , 0.6819515 , 1.1123164 , 0.10478742,\n",
       "        2.3297312 , 1.3443979 , 0.81873   , 2.2879567 , 1.371325  ,\n",
       "        0.5592966 , 2.2471256 , 0.3322185 , 0.9681475 , 0.87244356,\n",
       "        1.2119952 , 0.6261545 , 1.2711897 , 0.2654295 , 1.2836357 ,\n",
       "        1.9758193 , 1.3630835 , 1.3855575 , 0.3181462 , 0.1817359 ,\n",
       "        0.35955152, 2.6884055 , 1.5677979 , 1.3768928 , 0.9646671 ,\n",
       "        1.004292  , 0.09023085, 1.9148582 , 0.02340891, 0.38685143,\n",
       "        0.40243965, 0.18854277, 0.27468455, 0.86746436, 1.9137499 ,\n",
       "        0.03182577, 0.7537019 , 2.6802554 , 1.1301705 , 0.4618156 ,\n",
       "        0.08406391, 1.9976676 , 0.9498171 , 1.0797085 , 0.26396155,\n",
       "        1.3847657 , 1.0763295 , 0.0141447 , 1.2534504 , 0.4737093 ,\n",
       "        2.2511673 , 0.91083264, 2.2742326 , 0.5598231 , 0.9470356 ,\n",
       "        0.95855045, 1.4253963 , 2.535678  , 2.371076  , 0.2784361 ,\n",
       "        1.9991531 , 1.7126559 , 2.513373  , 0.3933712 , 1.0280714 ,\n",
       "        1.3937168 , 0.22967735, 1.0553129 , 0.94954157, 1.2511352 ,\n",
       "        1.1648185 , 1.8295308 , 2.2773712 , 1.0816947 , 2.4326718 ,\n",
       "        2.7227182 , 0.3688219 , 0.084603  , 1.9878134 , 0.83821154,\n",
       "        0.5962378 , 1.6171798 , 2.373992  , 2.671503  , 1.7911034 ,\n",
       "        1.3512975 , 1.2522804 , 1.6526542 , 0.5771037 , 2.2789328 ,\n",
       "        0.8236173 , 0.13974628, 0.32640147, 0.7685164 , 0.58994895,\n",
       "        0.01979438, 0.61408645, 0.30208692, 2.0158024 , 1.1472343 ,\n",
       "        0.7219527 , 0.25866047, 1.3475114 , 0.64078337, 1.6830394 ,\n",
       "        0.60992175, 0.8274711 , 1.8106835 , 0.6144714 , 1.0323621 ,\n",
       "        0.8112445 , 1.4396509 , 2.3500397 , 1.1516567 , 1.6551374 ,\n",
       "        1.1643153 , 0.63199735, 0.60799253, 0.2135305 , 2.55284   ,\n",
       "        0.08151323, 1.425759  , 1.1097713 , 2.3094146 , 0.99802136,\n",
       "        1.7471815 , 0.7807617 , 0.7646579 , 0.7800436 , 0.913647  ,\n",
       "        1.7552184 , 0.15491496, 2.277796  , 0.943481  ], dtype=float32)}"
      ]
     },
     "execution_count": 260,
     "metadata": {},
     "output_type": "execute_result"
    }
   ],
   "source": [
    "F05sSFR_dict[0]"
   ]
  },
  {
   "cell_type": "code",
   "execution_count": null,
   "id": "e708276c-40bb-4669-8f2b-dcad54d05d01",
   "metadata": {
    "tags": []
   },
   "outputs": [],
   "source": [
    "# Iterar sobre cada grupo fósil\n",
    "import os\n",
    "\n",
    "unique_groups = df_sats_05['group_index'].unique()\n",
    "\n",
    "os.makedirs('ssfr_vs_r200_fossil', exist_ok=True)\n",
    "\n",
    "\n",
    "for group_idx in unique_groups:\n",
    "    # Índices del grupo\n",
    "    ids_in_group = np.where(df_sats_05['group_index'] == group_idx)[0]\n",
    "    \n",
    "    if len(ids_in_group) < 2:\n",
    "        continue  # saltar si no hay suficientes satélites\n",
    "    \n",
    "    id_central = ids_in_group[0]\n",
    "    id_sats = ids_in_group[1:]\n",
    "\n",
    "    # Posiciones (en Mpc/h)\n",
    "    pos_central = subhalos['SubhaloPos'][id_central] / h\n",
    "    pos_sats = subhalos['SubhaloPos'][id_sats] / h\n",
    "\n",
    "    # Coordenadas\n",
    "    x, y, z = pos_sats[:, 0], pos_sats[:, 1], pos_sats[:, 2]\n",
    "\n",
    "    # R200 del grupo correspondiente\n",
    "    r200 = halos['Group_R_Crit200'][group_idx] / h\n",
    "\n",
    "    # Distancias centradas\n",
    "    xc = Distance_1D(x, pos_central[0], (75000/h))\n",
    "    yc = Distance_1D(y, pos_central[1], (75000/h))\n",
    "    zc = Distance_1D(z, pos_central[2], (75000/h))\n",
    "    r_norm = np.sqrt(xc**2 + yc**2 + zc**2) / r200\n",
    "\n",
    "    # sSFR\n",
    "    ssfr = df_sats_05['sSFR'].iloc[id_sats]\n",
    "\n",
    "    # Graficar\n",
    "    fig, ax = plt.subplots(figsize=(6, 4))\n",
    "    ax.scatter(r_norm, ssfr, s=10, alpha=0.7)\n",
    "    ax.set_yscale('log')\n",
    "    ax.set_xlim(0, 2)\n",
    "    ax.set_xlabel('R / R200')\n",
    "    ax.set_ylabel('sSFR [1/yr]')\n",
    "    ax.set_title(f'Grupo fósil #{group_idx}')\n",
    "\n",
    "    plt.tight_layout()\n",
    "    plt.savefig(f'ssfr_vs_r200_fossil/group_{group_idx}.png')\n",
    "    plt.close()"
   ]
  },
  {
   "cell_type": "code",
   "execution_count": null,
   "id": "43f81db5-461b-43aa-b2db-bef44bcb6b10",
   "metadata": {},
   "outputs": [],
   "source": []
  }
 ],
 "metadata": {
  "kernelspec": {
   "display_name": "Python 3 (ipykernel)",
   "language": "python",
   "name": "python3"
  },
  "language_info": {
   "codemirror_mode": {
    "name": "ipython",
    "version": 3
   },
   "file_extension": ".py",
   "mimetype": "text/x-python",
   "name": "python",
   "nbconvert_exporter": "python",
   "pygments_lexer": "ipython3",
   "version": "3.11.4"
  }
 },
 "nbformat": 4,
 "nbformat_minor": 5
}
