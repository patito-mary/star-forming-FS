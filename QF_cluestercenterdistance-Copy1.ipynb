{
 "cells": [
  {
   "cell_type": "code",
   "execution_count": 1,
   "id": "6015fda9-5ee1-432c-9acb-e45a0ae9eb78",
   "metadata": {
    "tags": []
   },
   "outputs": [],
   "source": [
    "import pandas as pd\n",
    "import numpy as np\n",
    "import matplotlib.pyplot as plt\n",
    "import pickle\n",
    "import seaborn as sns\n",
    "import illustris_python as il\n",
    "from matplotlib.gridspec import GridSpec"
   ]
  },
  {
   "cell_type": "code",
   "execution_count": 2,
   "id": "6a5c53cc-3d64-4b41-b293-8c171830bbec",
   "metadata": {
    "tags": []
   },
   "outputs": [],
   "source": [
    "def Distance_1D(X, X_POS, BoxSize):\n",
    "    '''This function takes as input a 1D \n",
    "    vector containing the positions of particles, \n",
    "    the X_POS(float) that is the position respect \n",
    "    to where we will compute the Distance and the BoxSize, \n",
    "    this function consider a periodical Box. \n",
    "    The output is a 1D vector with the same size than X \n",
    "    containing the distance from X to X_POS\n",
    "    example:\n",
    "        xc = Distance_1D(pos[gals,0], pos[central,0], (75000/h))\n",
    "        yc = Distance_1D(pos[gals,1], pos[central,1], (75000/h))\n",
    "        zc = Distance_1D(pos[gals,2], pos[central,2], (75000/h))\n",
    "        # with the aim of use of the normpos\n",
    "        normpos = np.sqrt(xc**2 + yc**2 + zc**2)/r200[group]\n",
    "    '''\n",
    "    \n",
    "    D=X-X_POS\n",
    "    D=np.where(D>BoxSize/2, D-BoxSize, D)\n",
    "    D=np.where(D<-BoxSize/2, D+BoxSize, D)\n",
    "    return D"
   ]
  },
  {
   "cell_type": "code",
   "execution_count": 3,
   "id": "53c6cf7c-ca1d-4b4a-b352-bf47d10cf981",
   "metadata": {
    "tags": []
   },
   "outputs": [],
   "source": [
    "def compute_quenching_fractions(sSFR_dict, threshold=1e-11):\n",
    "    \"\"\"\n",
    "    Calcula la fracción de galaxias quenched por grupo.\n",
    "    \n",
    "    Parámetros:\n",
    "        sSFR_dict: dict\n",
    "            Diccionario con estructura:\n",
    "                {\n",
    "                    group_id1: {\n",
    "                        'subhalo_id': [...],\n",
    "                        'sSFR': [...],\n",
    "                        'rnorm': [...]\n",
    "                    },\n",
    "                    ...\n",
    "                }\n",
    "        threshold: float\n",
    "            Umbral de sSFR para considerar una galaxia como quenched.\n",
    "    \n",
    "    Retorna:\n",
    "        dict: { group_id: QF (float) }\n",
    "    \"\"\"\n",
    "    qf_dict = {}\n",
    "\n",
    "    for group_id, data in sSFR_dict.items():\n",
    "        ssfr_array = np.array(data['sSFR'])\n",
    "        if len(ssfr_array) == 0:\n",
    "            qf = np.nan  # o 0.0 si prefieres\n",
    "        else:\n",
    "            quenched = ssfr_array < threshold\n",
    "            qf = quenched.sum() / len(ssfr_array)\n",
    "        qf_dict[group_id] = qf\n",
    "\n",
    "    return qf_dict\n"
   ]
  },
  {
   "cell_type": "code",
   "execution_count": 4,
   "id": "545aa7ab-eb1f-4138-bf26-fde44f51fcb4",
   "metadata": {},
   "outputs": [],
   "source": [
    "basePath = '/home/tnguser/sims.TNG/TNG100-1/output'\n",
    "fields = ['Group_R_Crit200', 'GroupSFR', 'GroupMassType', 'GroupPos', 'GroupFirstSub']\n",
    "halos = il.groupcat.loadHalos(basePath, 99, fields=fields)"
   ]
  },
  {
   "cell_type": "code",
   "execution_count": 5,
   "id": "3047f8ab-f559-48c9-96bf-d1c029879e35",
   "metadata": {
    "tags": []
   },
   "outputs": [],
   "source": [
    "fields = ['SubhaloMass','SubhaloSFRinRad','SubhaloSFR' ,\n",
    "          'SubhaloStellarPhotometrics', 'SubhaloMassType', \n",
    "          'SubhaloGrNr', 'SubhaloPos']\n",
    "subhalos = il.groupcat.loadSubhalos(basePath, 99, fields=fields)"
   ]
  },
  {
   "cell_type": "code",
   "execution_count": 6,
   "id": "3c3eb70f-8127-4aa6-972b-8b5ef809c8b5",
   "metadata": {
    "tags": []
   },
   "outputs": [],
   "source": [
    "h = 0.6774"
   ]
  },
  {
   "cell_type": "code",
   "execution_count": 7,
   "id": "6af2869b-01b4-4f9e-90cc-c5f26fb7becf",
   "metadata": {
    "tags": []
   },
   "outputs": [],
   "source": [
    "# limpiar subhalos \n",
    "subhalo_ids = np.arange(subhalos['count'])\n",
    "subhalos['SubhaloID'] = subhalo_ids"
   ]
  },
  {
   "cell_type": "code",
   "execution_count": 8,
   "id": "90e58b50-9418-4ac7-b5f5-a30e7314f4a6",
   "metadata": {
    "tags": []
   },
   "outputs": [
    {
     "name": "stderr",
     "output_type": "stream",
     "text": [
      "/home/tnguser/taller/utilthings/star_formation/ipykernel_7652/2381469089.py:1: RuntimeWarning: divide by zero encountered in log10\n",
      "  stars = np.log10((subhalos['SubhaloMassType'][:,4])/h) + 10\n"
     ]
    }
   ],
   "source": [
    "stars = np.log10((subhalos['SubhaloMassType'][:,4])/h) + 10"
   ]
  },
  {
   "cell_type": "code",
   "execution_count": 9,
   "id": "19f2c5c4-e461-4bea-a734-4c1039754dc8",
   "metadata": {
    "tags": []
   },
   "outputs": [],
   "source": [
    "ids = (stars >= 9.5)"
   ]
  },
  {
   "cell_type": "code",
   "execution_count": 10,
   "id": "dcd47608-2bd7-4edf-9921-a26708813e8e",
   "metadata": {
    "tags": []
   },
   "outputs": [],
   "source": [
    "subhalos_star = subhalos['SubhaloSFR'][ids]\n",
    "subhalos_pos = subhalos['SubhaloPos'][ids]"
   ]
  },
  {
   "cell_type": "code",
   "execution_count": 11,
   "id": "09aa0e74-04f7-423b-ba59-dfb8b4d2078f",
   "metadata": {
    "tags": []
   },
   "outputs": [
    {
     "data": {
      "text/plain": [
       "array([ 2.227189  ,  0.41328505, 17.392204  , ...,  0.        ,\n",
       "        0.        ,  0.        ], dtype=float32)"
      ]
     },
     "execution_count": 11,
     "metadata": {},
     "output_type": "execute_result"
    }
   ],
   "source": [
    "subhalos_star"
   ]
  },
  {
   "cell_type": "code",
   "execution_count": 12,
   "id": "22ecb1fb-b1e0-4362-89ab-7513961673ac",
   "metadata": {
    "tags": []
   },
   "outputs": [],
   "source": [
    "df_groups = pd.read_pickle('../generate_catalog/group_number_cat.pkl')"
   ]
  },
  {
   "cell_type": "code",
   "execution_count": 13,
   "id": "6356bbfe-33d6-4037-81b6-2ac024aa4b3f",
   "metadata": {
    "tags": []
   },
   "outputs": [],
   "source": [
    "df_sats_05 = pd.read_pickle('../generate_catalog/satellites_cat/sample_at_05.pkl')\n",
    "df_sats_1 = pd.read_pickle('../generate_catalog/satellites_cat/sample_at_1.pkl')"
   ]
  },
  {
   "cell_type": "code",
   "execution_count": 14,
   "id": "ff49963b-cf00-4515-97a8-18334ea47e36",
   "metadata": {
    "tags": []
   },
   "outputs": [
    {
     "data": {
      "text/html": [
       "<div>\n",
       "<style scoped>\n",
       "    .dataframe tbody tr th:only-of-type {\n",
       "        vertical-align: middle;\n",
       "    }\n",
       "\n",
       "    .dataframe tbody tr th {\n",
       "        vertical-align: top;\n",
       "    }\n",
       "\n",
       "    .dataframe thead th {\n",
       "        text-align: right;\n",
       "    }\n",
       "</style>\n",
       "<table border=\"1\" class=\"dataframe\">\n",
       "  <thead>\n",
       "    <tr style=\"text-align: right;\">\n",
       "      <th></th>\n",
       "      <th>group_index</th>\n",
       "      <th>group_mass</th>\n",
       "      <th>galaxy</th>\n",
       "      <th>satellite_mass</th>\n",
       "      <th>SFR</th>\n",
       "      <th>sSFR</th>\n",
       "      <th>state</th>\n",
       "    </tr>\n",
       "  </thead>\n",
       "  <tbody>\n",
       "    <tr>\n",
       "      <th>0</th>\n",
       "      <td>0</td>\n",
       "      <td>14.576127</td>\n",
       "      <td>0</td>\n",
       "      <td>12.568857</td>\n",
       "      <td>2.227189</td>\n",
       "      <td>0.177199</td>\n",
       "      <td>FG</td>\n",
       "    </tr>\n",
       "    <tr>\n",
       "      <th>1</th>\n",
       "      <td>0</td>\n",
       "      <td>14.576127</td>\n",
       "      <td>1</td>\n",
       "      <td>11.747250</td>\n",
       "      <td>0.413285</td>\n",
       "      <td>0.035181</td>\n",
       "      <td>FG</td>\n",
       "    </tr>\n",
       "    <tr>\n",
       "      <th>2</th>\n",
       "      <td>0</td>\n",
       "      <td>14.576127</td>\n",
       "      <td>2</td>\n",
       "      <td>11.797364</td>\n",
       "      <td>17.392204</td>\n",
       "      <td>1.474245</td>\n",
       "      <td>FG</td>\n",
       "    </tr>\n",
       "    <tr>\n",
       "      <th>3</th>\n",
       "      <td>0</td>\n",
       "      <td>14.576127</td>\n",
       "      <td>3</td>\n",
       "      <td>11.234394</td>\n",
       "      <td>5.079380</td>\n",
       "      <td>0.452128</td>\n",
       "      <td>FG</td>\n",
       "    </tr>\n",
       "    <tr>\n",
       "      <th>4</th>\n",
       "      <td>0</td>\n",
       "      <td>14.576127</td>\n",
       "      <td>4</td>\n",
       "      <td>11.124962</td>\n",
       "      <td>1.414690</td>\n",
       "      <td>0.127164</td>\n",
       "      <td>FG</td>\n",
       "    </tr>\n",
       "    <tr>\n",
       "      <th>...</th>\n",
       "      <td>...</td>\n",
       "      <td>...</td>\n",
       "      <td>...</td>\n",
       "      <td>...</td>\n",
       "      <td>...</td>\n",
       "      <td>...</td>\n",
       "      <td>...</td>\n",
       "    </tr>\n",
       "    <tr>\n",
       "      <th>3606</th>\n",
       "      <td>214</td>\n",
       "      <td>13.657840</td>\n",
       "      <td>327115</td>\n",
       "      <td>9.820068</td>\n",
       "      <td>2.637180</td>\n",
       "      <td>0.268550</td>\n",
       "      <td>nFG</td>\n",
       "    </tr>\n",
       "    <tr>\n",
       "      <th>3607</th>\n",
       "      <td>223</td>\n",
       "      <td>13.590466</td>\n",
       "      <td>330553</td>\n",
       "      <td>11.180980</td>\n",
       "      <td>0.077667</td>\n",
       "      <td>0.006946</td>\n",
       "      <td>nFG</td>\n",
       "    </tr>\n",
       "    <tr>\n",
       "      <th>3608</th>\n",
       "      <td>223</td>\n",
       "      <td>13.590466</td>\n",
       "      <td>330554</td>\n",
       "      <td>10.436050</td>\n",
       "      <td>0.000000</td>\n",
       "      <td>0.000000</td>\n",
       "      <td>nFG</td>\n",
       "    </tr>\n",
       "    <tr>\n",
       "      <th>3609</th>\n",
       "      <td>223</td>\n",
       "      <td>13.590466</td>\n",
       "      <td>330555</td>\n",
       "      <td>10.028354</td>\n",
       "      <td>0.000000</td>\n",
       "      <td>0.000000</td>\n",
       "      <td>nFG</td>\n",
       "    </tr>\n",
       "    <tr>\n",
       "      <th>3610</th>\n",
       "      <td>223</td>\n",
       "      <td>13.590466</td>\n",
       "      <td>330556</td>\n",
       "      <td>9.689526</td>\n",
       "      <td>0.688566</td>\n",
       "      <td>0.071063</td>\n",
       "      <td>nFG</td>\n",
       "    </tr>\n",
       "  </tbody>\n",
       "</table>\n",
       "<p>3611 rows × 7 columns</p>\n",
       "</div>"
      ],
      "text/plain": [
       "      group_index  group_mass  galaxy  satellite_mass        SFR      sSFR  \\\n",
       "0               0   14.576127       0       12.568857   2.227189  0.177199   \n",
       "1               0   14.576127       1       11.747250   0.413285  0.035181   \n",
       "2               0   14.576127       2       11.797364  17.392204  1.474245   \n",
       "3               0   14.576127       3       11.234394   5.079380  0.452128   \n",
       "4               0   14.576127       4       11.124962   1.414690  0.127164   \n",
       "...           ...         ...     ...             ...        ...       ...   \n",
       "3606          214   13.657840  327115        9.820068   2.637180  0.268550   \n",
       "3607          223   13.590466  330553       11.180980   0.077667  0.006946   \n",
       "3608          223   13.590466  330554       10.436050   0.000000  0.000000   \n",
       "3609          223   13.590466  330555       10.028354   0.000000  0.000000   \n",
       "3610          223   13.590466  330556        9.689526   0.688566  0.071063   \n",
       "\n",
       "     state  \n",
       "0       FG  \n",
       "1       FG  \n",
       "2       FG  \n",
       "3       FG  \n",
       "4       FG  \n",
       "...    ...  \n",
       "3606   nFG  \n",
       "3607   nFG  \n",
       "3608   nFG  \n",
       "3609   nFG  \n",
       "3610   nFG  \n",
       "\n",
       "[3611 rows x 7 columns]"
      ]
     },
     "execution_count": 14,
     "metadata": {},
     "output_type": "execute_result"
    }
   ],
   "source": [
    "df_sats_05"
   ]
  },
  {
   "cell_type": "markdown",
   "id": "da92e973-af0e-49b2-b58a-83d402346bf6",
   "metadata": {},
   "source": [
    "## making the catalogue"
   ]
  },
  {
   "cell_type": "code",
   "execution_count": null,
   "id": "0e27d9a1-fc6e-4987-92ca-1d57e269d808",
   "metadata": {
    "tags": []
   },
   "outputs": [],
   "source": [
    "groups = df_groups['05FossilR200']\n",
    "smass = np.log10(subhalos['SubhaloMassType'][:, 4]/h) + 10\n",
    "gals = (smass >= 9.5)\n",
    "\n",
    "\n",
    "Subhalomass = np.log10(subhalos['SubhaloMassType'][gals, 4]/h) + 10\n",
    "pos = (subhalos['SubhaloPos'][gals, :])/h\n",
    "r200 = (halos['Group_R_Crit200'][groups])/h\n",
    "cens = halos['GroupFirstSub'][groups]\n",
    "SubhaloGrNr = subhalos['SubhaloGrNr'][gals]\n",
    "SubhaloSFR = subhalos['SubhaloSFR'][gals]\n",
    "SubhaloID = subhalos['SubhaloID'][gals]"
   ]
  },
  {
   "cell_type": "code",
   "execution_count": null,
   "id": "59a6e137-328d-4c23-8549-8b7a9d3826d8",
   "metadata": {
    "tags": []
   },
   "outputs": [],
   "source": [
    "id_groups = df_groups['05FossilR200']  # puedes cambiar esto para otras categorías\n",
    "r200 = (halos['Group_R_Crit200'][id_groups])/h\n",
    "cens = halos['GroupFirstSub'][id_groups]\n",
    "\n",
    "\n",
    "FS05_rnorm = {}\n",
    "FS05_qf = {}\n",
    "\n",
    "for i in range(len(id_groups)):\n",
    "    group = id_groups[i]\n",
    "    central = cens[i]\n",
    "    #print(central)\n",
    "    mask_central = np.isin(SubhaloID, central)\n",
    "    #print(SubhaloID[mask_central])\n",
    "    mask_sats = (df_sats_05['group_index'] == group)\n",
    "    values_sats = df_sats_05['galaxy'][mask_sats]\n",
    "    \n",
    "    mask_ID = np.isin(SubhaloID, values_sats)\n",
    "    values_ID = SubhaloID[mask_ID]\n",
    "    \n",
    "    x = pos[mask_ID, 0]\n",
    "    y = pos[mask_ID, 1]\n",
    "    z = pos[mask_ID, 2]\n",
    "    \n",
    "    xc = Distance_1D(x, pos[mask_central, 0], (75000/h))\n",
    "    yc = Distance_1D(y, pos[mask_central, 1], (75000/h))\n",
    "    zc = Distance_1D(z, pos[mask_central, 2], (75000/h))\n",
    "    \n",
    "    normpos = np.sqrt(xc**2 + yc**2 + zc**2) / r200[i]\n",
    "    \n",
    "    sfr_05r200 = SubhaloSFR[mask_ID]\n",
    "    mass_05r200 = Subhalomass[mask_ID]\n",
    "    ssfr_05r200 = sfr_05r200 / (10**mass_05r200)  # suponer log(M*)\n",
    "    \n",
    "    group_data = []\n",
    "    \n",
    "    #print(f'el grupo es: {group} y su central es: {central}')\n",
    "\n",
    "    for j in range(len(values_ID)):\n",
    "        group_data.append({\n",
    "            'subhalo_id': values_ID[j],\n",
    "            'rnorm': normpos[j],\n",
    "            'sSFR': ssfr_05r200[j],\n",
    "            'state': 'FS'\n",
    "        })\n",
    "    \n",
    "    FS05_rnorm[group] = group_data\n",
    "    \n",
    "    # Calcular quenching fraction\n",
    "    quiescent_mask = ssfr_05r200 < 1e-11\n",
    "    qf = np.sum(quiescent_mask) / len(ssfr_05r200) if len(ssfr_05r200) > 0 else np.nan\n",
    "    FS05_qf[group] = qf\n"
   ]
  },
  {
   "cell_type": "code",
   "execution_count": null,
   "id": "3e950c8c-88f8-45c7-828c-141cc307d86b",
   "metadata": {
    "tags": []
   },
   "outputs": [],
   "source": [
    "id_groups = df_groups['05NFossilR200']  # puedes cambiar esto para otras categorías\n",
    "r200 = (halos['Group_R_Crit200'][id_groups])/h\n",
    "cens = halos['GroupFirstSub'][id_groups]\n",
    "\n",
    "\n",
    "NFS05_rnorm = {}\n",
    "NFS05_qf = {}\n",
    "\n",
    "for i in range(len(id_groups)):\n",
    "    group = id_groups[i]\n",
    "    central = cens[i]\n",
    "    mask_central = np.isin(SubhaloID, central)\n",
    "    \n",
    "    mask_sats = (df_sats_05['group_index'] == group)\n",
    "    values_sats = df_sats_05['galaxy'][mask_sats]\n",
    "    \n",
    "    mask_ID = np.isin(SubhaloID, values_sats)\n",
    "    values_ID = SubhaloID[mask_ID]\n",
    "    \n",
    "    x = pos[mask_ID, 0]\n",
    "    y = pos[mask_ID, 1]\n",
    "    z = pos[mask_ID, 2]\n",
    "    \n",
    "    xc = Distance_1D(x, pos[mask_central, 0], (75000/h))\n",
    "    yc = Distance_1D(y, pos[mask_central, 1], (75000/h))\n",
    "    zc = Distance_1D(z, pos[mask_central, 2], (75000/h))\n",
    "    \n",
    "    normpos = np.sqrt(xc**2 + yc**2 + zc**2) / r200[i]\n",
    "    \n",
    "    sfr_05r200 = SubhaloSFR[mask_ID]\n",
    "    mass_05r200 = Subhalomass[mask_ID]\n",
    "    ssfr_05r200 = sfr_05r200 / (10**mass_05r200)  # suponer log(M*)\n",
    "    \n",
    "    group_data = []\n",
    "    \n",
    "    #print(f'el grupo es: {group} y su central es: {central}')\n",
    "\n",
    "    for j in range(len(values_ID)):\n",
    "        group_data.append({\n",
    "            'subhalo_id': values_ID[j],\n",
    "            'rnorm': normpos[j],\n",
    "            'sSFR': ssfr_05r200[j],\n",
    "            'state': 'nFS'\n",
    "        })\n",
    "    \n",
    "    NFS05_rnorm[group] = group_data\n",
    "    \n",
    "    # Calcular quenching fraction\n",
    "    quiescent_mask = ssfr_05r200 < 1e-11\n",
    "    qf = np.sum(quiescent_mask) / len(ssfr_05r200) if len(ssfr_05r200) > 0 else np.nan\n",
    "    NFS05_qf[group] = qf\n"
   ]
  },
  {
   "cell_type": "code",
   "execution_count": null,
   "id": "e6c8e25f-4f67-4daa-bd6c-312f1187f905",
   "metadata": {
    "tags": []
   },
   "outputs": [],
   "source": [
    "id_groups = df_groups['1FossilR200']  # puedes cambiar esto para otras categorías\n",
    "r200 = (halos['Group_R_Crit200'][id_groups])/h\n",
    "cens = halos['GroupFirstSub'][id_groups]\n",
    "\n",
    "\n",
    "FS1_rnorm = {}\n",
    "FS1_qf = {}\n",
    "\n",
    "for i in range(len(id_groups)):\n",
    "    group = id_groups[i]\n",
    "    central = cens[i]\n",
    "    mask_central = np.isin(SubhaloID, central)\n",
    "    \n",
    "    mask_sats = (df_sats_1['group_index'] == group)\n",
    "    values_sats = df_sats_1['galaxy'][mask_sats]\n",
    "    \n",
    "    mask_ID = np.isin(SubhaloID, values_sats)\n",
    "    values_ID = SubhaloID[mask_ID]\n",
    "    \n",
    "    x = pos[mask_ID, 0]\n",
    "    y = pos[mask_ID, 1]\n",
    "    z = pos[mask_ID, 2]\n",
    "    \n",
    "    xc = Distance_1D(x, pos[mask_central, 0], (75000/h))\n",
    "    yc = Distance_1D(y, pos[mask_central, 1], (75000/h))\n",
    "    zc = Distance_1D(z, pos[mask_central, 2], (75000/h))\n",
    "    \n",
    "    normpos = np.sqrt(xc**2 + yc**2 + zc**2) / r200[i]\n",
    "    \n",
    "    sfr_1r200 = SubhaloSFR[mask_ID]\n",
    "    mass_1r200 = Subhalomass[mask_ID]\n",
    "    ssfr_1r200 = sfr_1r200 / (10**mass_1r200)  # suponer log(M*)\n",
    "    \n",
    "    group_data = []\n",
    "    \n",
    "    #print(f'el grupo es: {group} y su central es: {central}')\n",
    "\n",
    "    for j in range(len(values_ID)):\n",
    "        group_data.append({\n",
    "            'subhalo_id': values_ID[j],\n",
    "            'rnorm': normpos[j],\n",
    "            'sSFR': ssfr_1r200[j],\n",
    "            'state': 'FS'\n",
    "        })\n",
    "    \n",
    "    FS1_rnorm[group] = group_data\n",
    "    \n",
    "    # Calcular quenching fraction\n",
    "    quiescent_mask = ssfr_1r200 < 1e-11\n",
    "    qf = np.sum(quiescent_mask) / len(ssfr_1r200) if len(ssfr_1r200) > 0 else np.nan\n",
    "    FS1_qf[group] = qf\n"
   ]
  },
  {
   "cell_type": "code",
   "execution_count": null,
   "id": "90e94dd4-0c71-46d1-ba1a-d5c8aeec061a",
   "metadata": {
    "tags": []
   },
   "outputs": [],
   "source": [
    "id_groups = df_groups['1NFossilR200']  # puedes cambiar esto para otras categorías\n",
    "r200 = (halos['Group_R_Crit200'][id_groups])/h\n",
    "cens = halos['GroupFirstSub'][id_groups]\n",
    "\n",
    "\n",
    "NFS1_rnorm = {}\n",
    "NFS1_qf = {}\n",
    "\n",
    "for i in range(len(id_groups)):\n",
    "    group = id_groups[i]\n",
    "    central = cens[i]\n",
    "    mask_central = np.isin(SubhaloID, central)\n",
    "    \n",
    "    mask_sats = (df_sats_1['group_index'] == group)\n",
    "    values_sats = df_sats_1['galaxy'][mask_sats]\n",
    "    \n",
    "    mask_ID = np.isin(SubhaloID, values_sats)\n",
    "    values_ID = SubhaloID[mask_ID]\n",
    "    \n",
    "    x = pos[mask_ID, 0]\n",
    "    y = pos[mask_ID, 1]\n",
    "    z = pos[mask_ID, 2]\n",
    "    \n",
    "    xc = Distance_1D(x, pos[mask_central, 0], (75000/h))\n",
    "    yc = Distance_1D(y, pos[mask_central, 1], (75000/h))\n",
    "    zc = Distance_1D(z, pos[mask_central, 2], (75000/h))\n",
    "    \n",
    "    normpos = np.sqrt(xc**2 + yc**2 + zc**2) / r200[i]\n",
    "    \n",
    "    sfr_1r200 = SubhaloSFR[mask_ID]\n",
    "    mass_1r200 = Subhalomass[mask_ID]\n",
    "    ssfr_1r200 = sfr_1r200 / 10**mass_1r200  # suponer log(M*)\n",
    "    \n",
    "    group_data = []\n",
    "    \n",
    "    #print(f'el grupo es: {group} y su central es: {central}')\n",
    "\n",
    "    for j in range(len(values_ID)):\n",
    "        group_data.append({\n",
    "            'subhalo_id': values_ID[j],\n",
    "            'rnorm': normpos[j],\n",
    "            'sSFR': ssfr_1r200[j],\n",
    "            'state': 'nFS'\n",
    "        })\n",
    "    \n",
    "    NFS1_rnorm[group] = group_data\n",
    "    \n",
    "    # Calcular quenching fraction\n",
    "    quiescent_mask = ssfr_1r200 < 1e-11 \n",
    "    qf = np.sum(quiescent_mask) / len(ssfr_1r200) if len(ssfr_1r200) > 0 else np.nan\n",
    "    NFS1_qf[group] = qf\n"
   ]
  },
  {
   "cell_type": "code",
   "execution_count": null,
   "id": "eb024de9-a299-4241-9435-c660e7d54780",
   "metadata": {
    "tags": []
   },
   "outputs": [],
   "source": [
    "from IPython.display import Audio\n",
    "meh = '/home/tnguser/taller/utilthings/ping_missing.mp3'\n",
    "class InvisibleAudio(Audio):\n",
    "    def _repr_html_(self):\n",
    "        audio = super()._repr_html_()\n",
    "        audio = audio.replace('<audio', f'<audio onended=\"this.parentNode.removeChild(this)\"')\n",
    "        return f'<div style=\"display:none\">{audio}</div>'"
   ]
  },
  {
   "cell_type": "code",
   "execution_count": null,
   "id": "20c9be1f-d36e-4e2c-a47c-2c6454c8f07a",
   "metadata": {
    "tags": []
   },
   "outputs": [],
   "source": [
    "InvisibleAudio(meh, autoplay=True)"
   ]
  },
  {
   "cell_type": "markdown",
   "id": "f3064864-1a57-44f2-ac97-bc86c49199a0",
   "metadata": {},
   "source": [
    "## testing for one halo"
   ]
  },
  {
   "cell_type": "code",
   "execution_count": null,
   "id": "d735c267-5c62-4504-953d-c9e1b41e6407",
   "metadata": {
    "tags": []
   },
   "outputs": [],
   "source": [
    "normpos_group_0 = [val['rnorm'] for val in FS05_rnorm[0] if val['rnorm'] > 0]\n",
    "ssfr_group_0 = [val['sSFR'] for val in FS05_rnorm[0] if val['rnorm'] > 0]"
   ]
  },
  {
   "cell_type": "code",
   "execution_count": null,
   "id": "fdcce764-1347-4377-ab8b-218fff39e672",
   "metadata": {
    "tags": []
   },
   "outputs": [],
   "source": [
    "fig, ax = plt.subplots(1,1, figsize=(7,5))\n",
    "ax.scatter(normpos_group_0, ssfr_group_0)\n",
    "ax.set_yscale('log')\n",
    "ax.set_xlabel('R/R200')\n",
    "ax.set_ylabel('sSFR')"
   ]
  },
  {
   "cell_type": "markdown",
   "id": "153a27cb-19f6-4170-834b-a579b2138dbe",
   "metadata": {},
   "source": [
    "# testing for all the satellite galaxies"
   ]
  },
  {
   "cell_type": "code",
   "execution_count": null,
   "id": "f1ff7a92-9dc8-47b0-bc42-8241d718f1b5",
   "metadata": {
    "tags": []
   },
   "outputs": [],
   "source": [
    "F05r200 = df_groups['05FossilR200']\n",
    "NF05r200 = df_groups['05NFossilR200']"
   ]
  },
  {
   "cell_type": "code",
   "execution_count": null,
   "id": "9ead4565-8b65-46b9-9dcc-7af2836e4a2b",
   "metadata": {
    "tags": []
   },
   "outputs": [],
   "source": [
    "Fr200 = df_groups['1FossilR200']\n",
    "NFr200 = df_groups['1NFossilR200']"
   ]
  },
  {
   "cell_type": "markdown",
   "id": "c646fe09-7905-429e-84c9-e4e4483e952a",
   "metadata": {},
   "source": [
    "### create list to calculate statistic parameters"
   ]
  },
  {
   "cell_type": "code",
   "execution_count": null,
   "id": "1aa5ef9e-9177-4a45-ac67-1298877e539e",
   "metadata": {
    "tags": []
   },
   "outputs": [],
   "source": [
    "QF_05_list = list(FS05_qf.values())"
   ]
  },
  {
   "cell_type": "code",
   "execution_count": null,
   "id": "ef1aba30-4243-46e3-8f70-475e40286134",
   "metadata": {
    "tags": []
   },
   "outputs": [],
   "source": [
    "QF_NF05_list = list(NFS05_qf.values())"
   ]
  },
  {
   "cell_type": "code",
   "execution_count": null,
   "id": "fb54aad8-1980-47d6-a934-1c994cb57415",
   "metadata": {
    "tags": []
   },
   "outputs": [],
   "source": [
    "medianQF = np.median(QF_05_list)\n",
    "mediannQF = np.median(QF_NF05_list)\n",
    "meanQF = np.mean(QF_05_list)\n",
    "meannQF = np.mean(QF_NF05_list)"
   ]
  },
  {
   "cell_type": "code",
   "execution_count": null,
   "id": "516b5f6e-3488-4200-bfcd-b7ee1e7c5b24",
   "metadata": {
    "tags": []
   },
   "outputs": [],
   "source": [
    "QF_1_list = list(FS1_qf.values())"
   ]
  },
  {
   "cell_type": "code",
   "execution_count": null,
   "id": "bd625307-aea4-448b-a244-eb2d1704a0d3",
   "metadata": {
    "tags": []
   },
   "outputs": [],
   "source": [
    "QF_NF1_list = list(NFS1_qf.values())"
   ]
  },
  {
   "cell_type": "code",
   "execution_count": null,
   "id": "c9b75223-8c2e-4e93-9d7b-2734020eeacb",
   "metadata": {
    "tags": []
   },
   "outputs": [],
   "source": [
    "medianQF = np.median(QF_1_list)\n",
    "mediannQF = np.median(QF_NF1_list)\n",
    "meanQF = np.mean(QF_1_list)\n",
    "meannQF = np.mean(QF_NF1_list)"
   ]
  },
  {
   "cell_type": "code",
   "execution_count": null,
   "id": "3a79fbda-3454-4123-bdb5-5242d2d23653",
   "metadata": {},
   "outputs": [],
   "source": [
    "weight_fossil = np.ones_like(QF_05_list)/len(F05r200)\n",
    "weight_nonfossil = np.ones_like(QF_NF05_list)/len(NF05r200)\n",
    "#bins= np.arange(0, 1, 0.025)\n",
    "bins= int(1 + np.log2(len(F05r200)+len(NF05r200)))"
   ]
  },
  {
   "cell_type": "code",
   "execution_count": null,
   "id": "13ba26ad-a5be-4975-bbcd-837e6d68021a",
   "metadata": {},
   "outputs": [],
   "source": [
    "weight_fossil_1 = np.ones_like(QF_1_list)/len(Fr200)\n",
    "weight_nonfossil_1 = np.ones_like(QF_NF1_list)/len(NFr200)\n",
    "#bins= np.arange(0, 1, 0.025)\n",
    "bins_1 = int(1 + np.log2(len(Fr200)+len(NFr200)))"
   ]
  },
  {
   "cell_type": "code",
   "execution_count": null,
   "id": "d1a4c716-71fa-4469-a63b-15fc01779b55",
   "metadata": {},
   "outputs": [],
   "source": [
    "fig, ax = plt.subplots(1,2, figsize=(9,5))\n",
    "\n",
    "ax[0].hist([QF_NF05_list,QF_05_list], bins=bins, color = ['blue', 'orange'], \n",
    "           rwidth=0.8, alpha=0.5, label=['Non fossil', 'Fossil'], \n",
    "           weights = [weight_nonfossil, weight_fossil], cumulative=False)\n",
    "ax[1].hist([QF_NF1_list,QF_1_list], bins=bins, color = ['blue', 'orange'], \n",
    "           rwidth=0.8, alpha=0.5, label=['Non fossil', 'Fossil'], \n",
    "           weights = [weight_nonfossil_1, weight_fossil_1], cumulative=False)\n",
    "\n",
    "ax[0].set_ylabel('number of structures')\n",
    "fig.supxlabel('quenching fraction (% of quenched galaxies per halo)')\n"
   ]
  },
  {
   "cell_type": "code",
   "execution_count": null,
   "id": "02c10d99-263a-4afe-bef9-1247cc3f38a3",
   "metadata": {
    "tags": []
   },
   "outputs": [],
   "source": [
    "df_05 = pd.DataFrame({\n",
    "    'QF': QF_NF05_list + QF_05_list,\n",
    "    'state': ['non fosil'] * len(QF_NF05_list) + ['fosil'] * len(QF_05_list)\n",
    "})\n",
    "\n",
    "df_1 = pd.DataFrame({\n",
    "    'QF': QF_NF1_list + QF_1_list,\n",
    "    'state': ['non fosil'] * len(QF_NF1_list) + ['fosil'] * len(QF_1_list)\n",
    "})"
   ]
  },
  {
   "cell_type": "code",
   "execution_count": null,
   "id": "f1283ed0-9844-4d15-a80c-72787eeca71e",
   "metadata": {
    "tags": []
   },
   "outputs": [],
   "source": [
    "fig, ax = plt.subplots(1, 2, figsize=(9, 5))\n",
    "\n",
    "sns.histplot(data=df_05, x='QF', hue='state', \n",
    "             bins=bins, stat='proportion', element='bars', \n",
    "             common_norm=False, ax=ax[0], multiple='dodge', \n",
    "             shrink=0.8, edgecolor='white')\n",
    "\n",
    "sns.histplot(data=df_1, x='QF', hue='state',\n",
    "             bins=bins, stat='proportion', element='bars',\n",
    "             common_norm=False, ax=ax[1], multiple='dodge', \n",
    "             shrink=0.8, edgecolor='white')\n",
    "\n",
    "# Quitar etiquetas de ejes individuales\n",
    "ax[0].set_xlabel('')\n",
    "ax[0].set_ylabel('')\n",
    "ax[0].set_ylim(0,0.35)\n",
    "\n",
    "ax[1].set_xlabel('')\n",
    "ax[1].set_ylabel('')\n",
    "ax[1].set_ylim(0,0.35)\n",
    "# Etiqueta común en el eje x\n",
    "fig.supylabel('normalized number of halos per sample')\n",
    "fig.supxlabel('quenching fraction (% of quenched galaxies per halo)')\n",
    "\n",
    "plt.tight_layout()\n",
    "plt.show()\n"
   ]
  },
  {
   "cell_type": "markdown",
   "id": "7eb49be0-4dda-4d6f-af32-d4b5608bd0c8",
   "metadata": {},
   "source": [
    "## cumulative quenching fraction"
   ]
  },
  {
   "cell_type": "code",
   "execution_count": null,
   "id": "635a2710-2cde-43f5-841f-e322c55cdbed",
   "metadata": {
    "tags": []
   },
   "outputs": [],
   "source": [
    "binsnf = np.linspace(0, 1, num=len(QF_NF05_list))\n",
    "binsf = np.linspace(0, 1, num=len(QF_05_list))\n",
    "\n",
    "binsnf1 = np.linspace(0, 1, num=len(QF_NF1_list))\n",
    "binsf1 = np.linspace(0, 1, num=len(QF_1_list))"
   ]
  },
  {
   "cell_type": "code",
   "execution_count": null,
   "id": "5c702545-eda4-482e-9fe9-ab402e7775d3",
   "metadata": {
    "tags": []
   },
   "outputs": [],
   "source": [
    "bins= np.linspace(0, 1, num=50)"
   ]
  },
  {
   "cell_type": "code",
   "execution_count": null,
   "id": "743f33b2-7686-4dda-b23e-0393e1ed65aa",
   "metadata": {
    "tags": []
   },
   "outputs": [],
   "source": [
    "fig, ax = plt.subplots(1, 2, figsize=(9, 5))\n",
    "\n",
    "sns.histplot(data=df_05, x='QF', hue='state', \n",
    "             bins=bins, stat='proportion', element='step', \n",
    "             common_norm=False, ax=ax[0], multiple='layer', \n",
    "             shrink=0.8, edgecolor='white', cumulative=True, legend='')\n",
    "\n",
    "sns.histplot(data=df_1, x='QF', hue='state',\n",
    "             bins=bins, stat='proportion', element='step',\n",
    "             common_norm=False, ax=ax[1], multiple='layer', \n",
    "             shrink=0.8, edgecolor='white', cumulative=True, legend='')\n",
    "\n",
    "# Quitar etiquetas de ejes individuales\n",
    "ax[0].set_xlabel('')\n",
    "ax[0].set_ylabel('')\n",
    "ax[0].set_ylim(0,1.05)\n",
    "\n",
    "ax[1].set_xlabel('')\n",
    "ax[1].set_ylabel('')\n",
    "ax[1].set_ylim(0,1.05)\n",
    "# Etiqueta común en el eje x\n",
    "fig.supylabel('normalized number of halos per sample')\n",
    "fig.supxlabel('[cumulative] quenching fraction (% of quenched galaxies per halo)')\n",
    "\n",
    "plt.tight_layout()\n",
    "plt.show()"
   ]
  },
  {
   "cell_type": "code",
   "execution_count": null,
   "id": "06772aa9-ce07-48f9-8802-3f41546c4d35",
   "metadata": {
    "tags": []
   },
   "outputs": [],
   "source": [
    "# Funcion para calcular histograma y diferencia\n",
    "def compute_hist_and_diff(df, bins):\n",
    "    fosil = df[df['state'] == 'fosil']['QF']\n",
    "    nofosil = df[df['state'] == 'non fosil']['QF']\n",
    "    \n",
    "    h_fosil, _ = np.histogram(fosil, bins=bins, density=True)\n",
    "    h_nofosil, _ = np.histogram(nofosil, bins=bins, density=True)\n",
    "    \n",
    "    return fosil, nofosil, h_fosil, h_nofosil, h_fosil - h_nofosil"
   ]
  },
  {
   "cell_type": "code",
   "execution_count": null,
   "id": "9a4ade6b-4f84-4ad1-a1c0-16a82ae6cb9e",
   "metadata": {
    "tags": []
   },
   "outputs": [],
   "source": [
    "palette = {'fosil': '#E69F00', 'non fosil': '#56B4E9'}\n",
    "\n",
    "# Bins comunes para ambas comparaciones\n",
    "bins = np.linspace(0, 1, 50)\n",
    "bin_centers = 0.5 * (bins[1:] + bins[:-1])\n",
    "\n",
    "\n",
    "# Calcular para ambas muestras\n",
    "f05, nf05, h_f05, h_nf05, diff_05 = compute_hist_and_diff(df_05, bins)\n",
    "f1, nf1, h_f1, h_nf1, diff_1 = compute_hist_and_diff(df_1, bins)\n",
    "\n",
    "# Crear figura con 2 columnas y 2 filas\n",
    "fig = plt.figure(figsize=(12, 6))\n",
    "gs = GridSpec(2, 2, height_ratios=[3, 1], hspace=0.05, wspace=0.15)\n",
    "\n",
    "# Panel 05\n",
    "ax_05_main = fig.add_subplot(gs[0, 0])\n",
    "ax_05_diff = fig.add_subplot(gs[1, 0], sharex=ax_05_main)\n",
    "\n",
    "sns.histplot(f05, bins=bins, stat='proportion', element='step', fill=True,\n",
    "             color=palette['fosil'], label='fosil', ax=ax_05_main, \n",
    "             cumulative=False, alpha=0.4)\n",
    "sns.histplot(nf05, bins=bins, stat='proportion', element='step', fill=True,\n",
    "             color=palette['non fosil'], label='non fosil', ax=ax_05_main, \n",
    "             cumulative=False, alpha=0.4)\n",
    "\n",
    "ax_05_diff.axhline(0, color='gray', linestyle='--', linewidth=1)\n",
    "ax_05_diff.scatter(bin_centers, diff_05, color='black')\n",
    "\n",
    "# Panel 1\n",
    "ax_1_main = fig.add_subplot(gs[0, 1])\n",
    "ax_1_diff = fig.add_subplot(gs[1, 1], sharex=ax_1_main)\n",
    "\n",
    "sns.histplot(f1, bins=bins, stat='proportion', element='step', fill=True,\n",
    "             color=palette['fosil'], label='fosil', ax=ax_1_main, \n",
    "             cumulative=False, alpha=0.5)\n",
    "sns.histplot(nf1, bins=bins, stat='proportion', element='step', fill=True,\n",
    "             color=palette['non fosil'], label='non fosil', ax=ax_1_main, \n",
    "             cumulative=False, alpha=0.5)\n",
    "\n",
    "ax_1_diff.axhline(0, color='gray', linestyle='--', linewidth=1)\n",
    "ax_1_diff.scatter(bin_centers, diff_1, color='black')\n",
    "\n",
    "# Etiquetas y leyenda\n",
    "ax_05_main.set_ylabel('normalized number of halos per sample')\n",
    "ax_05_diff.set_ylabel('Δ')\n",
    "fig.supxlabel('[cumulative] quenching fraction (% of quenched galaxies per halo)')\n",
    "\n",
    "\n",
    "# Limpiar etiquetas X arriba\n",
    "ax_05_main.set_xlabel('')\n",
    "ax_1_main.set_xlabel('')\n",
    "plt.setp(ax_05_main.get_xticklabels(), visible=False)\n",
    "plt.setp(ax_1_main.get_xticklabels(), visible=False)\n",
    "\n",
    "ax_1_main.set_ylabel('')\n",
    "ax_1_diff.set_ylabel('')\n",
    "\n",
    "ax_05_diff.set_ylim(-5.8, 5.8)\n",
    "ax_1_diff.set_ylim(-5.8, 5.8)\n",
    "# Leyenda solo en uno\n",
    "ax_05_main.legend(title='state', loc='upper left')\n",
    "\n",
    "plt.tight_layout()\n",
    "plt.show()"
   ]
  },
  {
   "cell_type": "code",
   "execution_count": null,
   "id": "36ae2dcf-2177-43dd-90f0-0292613f23aa",
   "metadata": {},
   "outputs": [],
   "source": [
    "def compute_cdf_and_diff(df, bins):\n",
    "    fosil = df[df['state'] == 'fosil']['QF']\n",
    "    nofosil = df[df['state'] == 'non fosil']['QF']\n",
    "    \n",
    "    # Histograma normalizado\n",
    "    h_fosil, _ = np.histogram(fosil, bins=bins, density=True)\n",
    "    h_nofosil, _ = np.histogram(nofosil, bins=bins, density=True)\n",
    "    \n",
    "    # CDF (suma acumulada de las proporciones)\n",
    "    cdf_fosil = np.cumsum(h_fosil * np.diff(bins))\n",
    "    cdf_nofosil = np.cumsum(h_nofosil * np.diff(bins))\n",
    "    \n",
    "    return fosil, nofosil, cdf_fosil, cdf_nofosil, cdf_fosil - cdf_nofosil"
   ]
  },
  {
   "cell_type": "code",
   "execution_count": null,
   "id": "57f275e7-2cbb-45a3-b27e-f6a74762e2a2",
   "metadata": {
    "tags": []
   },
   "outputs": [],
   "source": [
    "palette = {'fosil': '#E69F00', 'non fosil': '#56B4E9'}\n",
    "\n",
    "# Bins comunes para ambas comparaciones\n",
    "bins = np.linspace(0, 1, 50)\n",
    "bin_centers = 0.5 * (bins[1:] + bins[:-1])\n",
    "\n",
    "\n",
    "# Calcular para ambas muestras con CDF\n",
    "f05, nf05, cdf_f05, cdf_nf05, diff_05 = compute_cdf_and_diff(df_05, bins)\n",
    "f1, nf1, cdf_f1, cdf_nf1, diff_1 = compute_cdf_and_diff(df_1, bins)\n",
    "\n",
    "\n",
    "# Crear figura con 2 columnas y 2 filas\n",
    "fig = plt.figure(figsize=(12, 6))\n",
    "gs = GridSpec(2, 2, height_ratios=[3, 1], hspace=0.05, wspace=0.15)\n",
    "\n",
    "# Panel 05\n",
    "ax_05_main = fig.add_subplot(gs[0, 0])\n",
    "ax_05_diff = fig.add_subplot(gs[1, 0], sharex=ax_05_main)\n",
    "\n",
    "sns.histplot(f05, bins=bins, stat='proportion', element='step', fill=True,\n",
    "             color=palette['fosil'], label='fosil', ax=ax_05_main, \n",
    "             cumulative=True, alpha=0.4)\n",
    "sns.histplot(nf05, bins=bins, stat='proportion', element='step', fill=True,\n",
    "             color=palette['non fosil'], label='non fosil', ax=ax_05_main, \n",
    "             cumulative=True, alpha=0.4)\n",
    "\n",
    "ax_05_diff.axhline(0, color='gray', linestyle='--', linewidth=1)\n",
    "ax_05_diff.scatter(bin_centers, diff_05, color='black', s=10, marker='d')\n",
    "\n",
    "# Panel 1\n",
    "ax_1_main = fig.add_subplot(gs[0, 1])\n",
    "ax_1_diff = fig.add_subplot(gs[1, 1], sharex=ax_1_main)\n",
    "\n",
    "sns.histplot(f1, bins=bins, stat='proportion', element='step', fill=True,\n",
    "             color=palette['fosil'], label='fosil', ax=ax_1_main, \n",
    "             cumulative=True, alpha=0.5)\n",
    "sns.histplot(nf1, bins=bins, stat='proportion', element='step', fill=True,\n",
    "             color=palette['non fosil'], label='non fosil', ax=ax_1_main, \n",
    "             cumulative=True, alpha=0.5)\n",
    "\n",
    "ax_1_diff.axhline(0, color='gray', linestyle='--', linewidth=1)\n",
    "ax_1_diff.scatter(bin_centers, diff_1, color='black', s=10, marker='d')\n",
    "\n",
    "\n",
    "# Etiquetas y leyenda\n",
    "ax_05_main.set_ylabel('normalized number of halos per sample')\n",
    "ax_05_diff.set_ylabel('Δ')\n",
    "fig.supxlabel('[cumulative] quenching fraction (% of quenched galaxies per halo)')\n",
    "\n",
    "\n",
    "# Limpiar etiquetas X arriba\n",
    "ax_05_main.set_xlabel('')\n",
    "ax_1_main.set_xlabel('')\n",
    "plt.setp(ax_05_main.get_xticklabels(), visible=False)\n",
    "plt.setp(ax_1_main.get_xticklabels(), visible=False)\n",
    "\n",
    "ax_1_main.set_ylabel('')\n",
    "ax_1_diff.set_ylabel('')\n",
    "\n",
    "ax_05_diff.set_ylim(-1, 1)\n",
    "ax_1_diff.set_ylim(-1, 1)\n",
    "# Leyenda solo en uno\n",
    "ax_05_main.legend(title='state', loc='upper left')\n",
    "\n",
    "\n",
    "plt.tight_layout()\n",
    "plt.show()\n"
   ]
  },
  {
   "cell_type": "markdown",
   "id": "947c20d4-6521-43b4-bb2b-4fae8f55633e",
   "metadata": {},
   "source": [
    "## ks-tests"
   ]
  },
  {
   "cell_type": "code",
   "execution_count": null,
   "id": "f09098e4-9040-48bc-a238-5f176a7ae4ae",
   "metadata": {},
   "outputs": [],
   "source": [
    "from scipy.stats import kstest\n",
    "from scipy.stats import ks_2samp"
   ]
  },
  {
   "cell_type": "code",
   "execution_count": null,
   "id": "4a7105eb-8f6d-4e46-b1d1-5e9aceed5adc",
   "metadata": {},
   "outputs": [],
   "source": [
    "print(ks_2samp(QF_05_list, QF_NF05_list))\n",
    "print(ks_2samp(QF_05_list, QF_NF05_list, alternative='less'))"
   ]
  },
  {
   "cell_type": "code",
   "execution_count": null,
   "id": "f3f74091-9ff0-4e2d-8b4f-9897965b2773",
   "metadata": {
    "tags": []
   },
   "outputs": [],
   "source": [
    "print(ks_2samp(QF_1_list, QF_NF1_list))\n",
    "print(ks_2samp(QF_1_list, QF_NF1_list, alternative='less'))"
   ]
  },
  {
   "cell_type": "markdown",
   "id": "db665d4b-ff83-4873-9738-9767f93b3a96",
   "metadata": {},
   "source": [
    "## lopes+2024"
   ]
  },
  {
   "cell_type": "code",
   "execution_count": null,
   "id": "fb1e431b-b70c-4c47-afc4-d9896fcff636",
   "metadata": {
    "tags": []
   },
   "outputs": [],
   "source": [
    "df_05 = pd.DataFrame(columns = ['id', 'state', 'Rnorm', 'sSFR'])"
   ]
  },
  {
   "cell_type": "code",
   "execution_count": null,
   "id": "91a1995c-647c-4d57-b1d5-bad356a12689",
   "metadata": {
    "tags": []
   },
   "outputs": [],
   "source": [
    "df_05['id'] = [\n",
    "    member['subhalo_id']\n",
    "    for group_data in FS05_rnorm.values()\n",
    "    for member in group_data\n",
    "] + [\n",
    "    member['subhalo_id']\n",
    "    for group_data in NFS05_rnorm.values()\n",
    "    for member in group_data\n",
    "]\n",
    "df_05['state'] = [\n",
    "    member['state']\n",
    "    for group_data in FS05_rnorm.values()\n",
    "    for member in group_data\n",
    "] + [\n",
    "    member['state']\n",
    "    for group_data in NFS05_rnorm.values()\n",
    "    for member in group_data\n",
    "]\n",
    "df_05['Rnorm'] = [\n",
    "    member['rnorm']\n",
    "    for group_data in FS05_rnorm.values()\n",
    "    for member in group_data\n",
    "] + [\n",
    "    member['rnorm']\n",
    "    for group_data in NFS05_rnorm.values()\n",
    "    for member in group_data\n",
    "]\n",
    "df_05['sSFR'] = [\n",
    "    member['sSFR']\n",
    "    for group_data in FS05_rnorm.values()\n",
    "    for member in group_data\n",
    "] + [\n",
    "    member['sSFR']\n",
    "    for group_data in NFS05_rnorm.values()\n",
    "    for member in group_data\n",
    "]"
   ]
  },
  {
   "cell_type": "code",
   "execution_count": null,
   "id": "918edf71-2e8c-4bd1-a225-53d461d52088",
   "metadata": {},
   "outputs": [],
   "source": [
    "df_05_all = df_05.copy()  # con centrales\n",
    "df_05_no_central = df_05[df_05['Rnorm'] > 0]  # sin centrales"
   ]
  },
  {
   "cell_type": "markdown",
   "id": "90a65bae-b543-4050-85e2-ee8b22cc6dfa",
   "metadata": {},
   "source": [
    "### including central galaxy and excluding central"
   ]
  },
  {
   "cell_type": "code",
   "execution_count": null,
   "id": "a2776b2a-d402-432a-9e76-ad1f88003252",
   "metadata": {
    "tags": []
   },
   "outputs": [],
   "source": [
    "df_1 = pd.DataFrame(columns = ['id', 'state', 'Rnorm', 'sSFR'])"
   ]
  },
  {
   "cell_type": "code",
   "execution_count": null,
   "id": "4193b1a6-94b9-4784-b3ff-0a454e65129c",
   "metadata": {
    "tags": []
   },
   "outputs": [],
   "source": [
    "df_1['id'] = [\n",
    "    member['subhalo_id']\n",
    "    for group_data in FS1_rnorm.values()\n",
    "    for member in group_data\n",
    "] + [\n",
    "    member['subhalo_id']\n",
    "    for group_data in NFS1_rnorm.values()\n",
    "    for member in group_data\n",
    "]\n",
    "\n",
    "df_1['state'] = [\n",
    "    member['state']\n",
    "    for group_data in FS1_rnorm.values()\n",
    "    for member in group_data\n",
    "] + [\n",
    "    member['state']\n",
    "    for group_data in NFS1_rnorm.values()\n",
    "    for member in group_data\n",
    "]\n",
    "\n",
    "df_1['sSFR'] = [\n",
    "    member['sSFR']\n",
    "    for group_data in FS1_rnorm.values()\n",
    "    for member in group_data\n",
    "] + [\n",
    "    member['sSFR']\n",
    "    for group_data in NFS1_rnorm.values()\n",
    "    for member in group_data\n",
    "]\n",
    "\n",
    "df_1['Rnorm'] = [\n",
    "    member['rnorm']\n",
    "    for group_data in FS1_rnorm.values()\n",
    "    for member in group_data\n",
    "] + [\n",
    "    member['rnorm']\n",
    "    for group_data in NFS1_rnorm.values()\n",
    "    for member in group_data\n",
    "]\n"
   ]
  },
  {
   "cell_type": "code",
   "execution_count": null,
   "id": "d81b8b54-88cb-4f85-a54c-38836451622d",
   "metadata": {
    "tags": []
   },
   "outputs": [],
   "source": [
    "df_1_all = df_1.copy()  # con centrales\n",
    "df_1_no_central = df_1[df_1['Rnorm'] > 0]  # sin centrales"
   ]
  },
  {
   "cell_type": "code",
   "execution_count": null,
   "id": "4ea56476-2c1d-4ada-af69-4b06f617577c",
   "metadata": {},
   "outputs": [],
   "source": [
    "# Separar por estado\n",
    "fs = df_05_all[df_05_all['state'] == 'FS']\n",
    "nfs = df_05_all[df_05_all['state'] == 'nFS']\n",
    "\n",
    "# Gráfico\n",
    "plt.figure(figsize=(7, 5))\n",
    "plt.scatter(nfs['Rnorm'], nfs['sSFR'], s=10, alpha=0.5, label='no fósil', c='blue')\n",
    "plt.scatter(fs['Rnorm'], fs['sSFR'], s=10, alpha=0.5, label='fósil', c='orange')\n",
    "\n",
    "plt.yscale('log')\n",
    "plt.xlabel('R / R200')\n",
    "plt.ylabel('sSFR [1/yr]')\n",
    "plt.xlim(-0.001, 3)\n",
    "plt.title('sSFR vs R/R200 all galaxies')\n",
    "plt.legend()\n",
    "plt.tight_layout()\n",
    "plt.show()"
   ]
  },
  {
   "cell_type": "code",
   "execution_count": null,
   "id": "ac2ac6ce-96fa-4760-b8f9-9bef5e1113c3",
   "metadata": {
    "tags": []
   },
   "outputs": [],
   "source": [
    "# Separar por estado\n",
    "fs = df_05_no_central[df_05_no_central['state'] == 'FS']\n",
    "nfs = df_05_no_central[df_05_no_central['state'] == 'nFS']\n",
    "\n",
    "# Gráfico\n",
    "plt.figure(figsize=(7, 5))\n",
    "plt.scatter(nfs['Rnorm'], nfs['sSFR'], s=10, alpha=0.5, label='no fósil', c='blue')\n",
    "plt.scatter(fs['Rnorm'], fs['sSFR'], s=10, alpha=0.5, label='fósil', c='orange')\n",
    "\n",
    "plt.yscale('log')\n",
    "plt.xlabel('R / R200')\n",
    "plt.ylabel('sSFR [1/yr]')\n",
    "plt.xlim(-0.001, 3)\n",
    "plt.title('sSFR vs R/R200 without central')\n",
    "plt.legend()\n",
    "plt.tight_layout()\n",
    "plt.show()"
   ]
  },
  {
   "cell_type": "code",
   "execution_count": null,
   "id": "5266dedd-006a-4f34-a02d-2cfde6869e35",
   "metadata": {
    "tags": []
   },
   "outputs": [],
   "source": [
    "# Separar por estado\n",
    "fs = df_1_all[df_1_all['state'] == 'FS']\n",
    "nfs = df_1_all[df_1_all['state'] == 'nFS']\n",
    "\n",
    "# Gráfico\n",
    "plt.figure(figsize=(7, 5))\n",
    "plt.scatter(nfs['Rnorm'], nfs['sSFR'], s=10, alpha=0.5, label='no fósil', c='blue')\n",
    "plt.scatter(fs['Rnorm'], fs['sSFR'], s=10, alpha=0.5, label='fósil', c='orange')\n",
    "\n",
    "plt.yscale('log')\n",
    "plt.xlabel('R / R200')\n",
    "plt.ylabel('sSFR [1/yr]')\n",
    "plt.xlim(-0.1, 3)\n",
    "plt.title('sSFR vs R/R200 all galaxies')\n",
    "plt.legend()\n",
    "plt.tight_layout()\n",
    "plt.show()"
   ]
  },
  {
   "cell_type": "code",
   "execution_count": null,
   "id": "ec3de3ab-0566-48c5-8401-4021f3142880",
   "metadata": {
    "tags": []
   },
   "outputs": [],
   "source": [
    "# Separar por estado\n",
    "fs = df_1_no_central[df_1_no_central['state'] == 'FS']\n",
    "nfs = df_1_no_central[df_1_no_central['state'] == 'nFS']\n",
    "\n",
    "# Gráfico\n",
    "plt.figure(figsize=(7, 5))\n",
    "plt.scatter(nfs['Rnorm'], nfs['sSFR'], s=10, alpha=0.5, label='no fósil', c='blue')\n",
    "plt.scatter(fs['Rnorm'], fs['sSFR'], s=10, alpha=0.5, label='fósil', c='orange')\n",
    "\n",
    "plt.yscale('log')\n",
    "plt.xlabel('R / R200')\n",
    "plt.ylabel('sSFR [1/yr]')\n",
    "plt.xlim(-0.1, 3)\n",
    "plt.title('sSFR vs R/R200 without centrals')\n",
    "plt.legend()\n",
    "plt.tight_layout()\n",
    "plt.show()"
   ]
  },
  {
   "cell_type": "code",
   "execution_count": null,
   "id": "f17278e7-c779-443f-a41f-c20daa24162c",
   "metadata": {
    "tags": []
   },
   "outputs": [],
   "source": [
    "# calcular el intervalo de confianza para el bineo con q1 y q3\n",
    "def equal_count_qf(df, col_r, col_s, threshold, n_bins):\n",
    "    df_sorted = df.sort_values(by=col_r).reset_index(drop=True)\n",
    "    bins = np.array_split(df_sorted, n_bins)\n",
    "\n",
    "    centers, frac, yerr_lower, yerr_upper = [], [], [], []\n",
    "    for b in bins:\n",
    "        centers.append(b[col_r].median())\n",
    "        active = (b[col_s] > threshold).astype(int)\n",
    "        f = active.mean()\n",
    "        frac.append(f)\n",
    "        # Calcular Q1 y Q3 como proporciones\n",
    "        q1 = np.percentile(active, 25)\n",
    "        q3 = np.percentile(active, 75)\n",
    "        yerr_lower.append(np.abs(f - q1))\n",
    "        yerr_upper.append(np.abs(q3 - f))\n",
    "    return np.array(centers), np.array(frac), np.array(yerr_lower), np.array(yerr_upper)"
   ]
  },
  {
   "cell_type": "code",
   "execution_count": null,
   "id": "09087ae5-066e-4d75-98c4-bfd6d2fe9cd9",
   "metadata": {
    "tags": []
   },
   "outputs": [],
   "source": [
    "# Parametros\n",
    "threshold = 1e-11\n",
    "n_bins = 5\n",
    "\n",
    "# --- Separar muestras ---\n",
    "fs_05  = df_05_no_central[df_05_no_central['state'] == 'FS']\n",
    "nfs_05 = df_05_no_central[df_05_no_central['state'] == 'nFS']\n",
    "\n",
    "fs_1  = df_1_no_central[df_1_no_central['state'] == 'FS']\n",
    "nfs_1 = df_1_no_central[df_1_no_central['state'] == 'nFS']\n",
    "\n",
    "# --- Calcular bins equipoblacionales ---\n",
    "centers_f05, frac_f05, errlow_f05, errup_f05   = equal_count_qf(fs_05,  'Rnorm', 'sSFR', threshold, n_bins)\n",
    "centers_nf05, frac_nf05, errlow_nf05, errup_nf05 = equal_count_qf(nfs_05, 'Rnorm', 'sSFR', threshold, n_bins)\n",
    "\n",
    "centers_f1, frac_f1, errlow_f1, errup_f1 = equal_count_qf(fs_1,  'Rnorm', 'sSFR', threshold, n_bins)\n",
    "centers_nf1, frac_nf1, errlow_nf1, errup_nf1 = equal_count_qf(nfs_1, 'Rnorm', 'sSFR', threshold, n_bins)\n",
    "\n",
    "# ------\n",
    "fig, ax = plt.subplots(1, 2, figsize=(12, 5), sharey=True)\n",
    "\n",
    "# Panel 0.5R200\n",
    "for centers, frac, err_low, err_up, color, label in [\n",
    "    (centers_f05, frac_f05, errlow_f05, errup_f05, 'orange', 'Fossil'),\n",
    "    (centers_nf05, frac_nf05, errlow_nf05, errup_nf05, 'royalblue', 'Non-Fossil')\n",
    "]:\n",
    "    ax[0].errorbar(centers, frac, yerr=[err_low, err_up], \n",
    "                   fmt='o', color=color, label=label, capsize=3, alpha=0.9)\n",
    "    \n",
    "ax[0].set_title('0.5 R200')\n",
    "ax[0].set_xlabel('R / R200')\n",
    "ax[0].set_ylabel('Fraction of galaxies with sSFR > $10^{-11}$ yr$^{-1}$')\n",
    "ax[0].grid(True)\n",
    "ax[0].set_ylim(0, 0.7)\n",
    "ax[0].axhline(y=0.63, label='field galaxies, Lopes+2024', \n",
    "              linestyle='--', linewidth=5, color='gray', alpha=0.6)\n",
    "ax[0].legend()\n",
    "\n",
    "# Panel 1R200\n",
    "for centers, frac, err_low, err_up, color, label in [\n",
    "    (centers_f1, frac_f1, errlow_f1, errup_f1, 'orange', 'Fossil'),\n",
    "    (centers_nf1, frac_nf1, errlow_nf1, errup_nf1, 'royalblue', 'Non-Fossil')\n",
    "]:\n",
    "    ax[1].errorbar(centers, frac, yerr=[err_low, err_up], \n",
    "                   fmt='o', color=color, label=label, capsize=3, alpha=0.9)\n",
    "    \n",
    "ax[1].set_title('1.0 R200')\n",
    "ax[1].set_xlabel('R / R200')\n",
    "ax[1].grid(True)\n",
    "ax[1].set_ylim(0, 0.7)\n",
    "ax[1].axhline(y=0.63, label='field galaxies, Lopes+2024', \n",
    "              linestyle='--', linewidth=5, color='gray', alpha=0.6)\n",
    "\n",
    "plt.tight_layout()\n",
    "plt.savefig('ssfr_fraction_equalbins.png', dpi=300)\n",
    "plt.show()\n"
   ]
  },
  {
   "cell_type": "code",
   "execution_count": null,
   "id": "c4b89402-b839-4b6a-934f-f11ae86945c2",
   "metadata": {
    "tags": []
   },
   "outputs": [],
   "source": [
    "import numpy as np\n",
    "import matplotlib.pyplot as plt\n",
    "\n",
    "def equal_count_bins_global(df_all, col_r, n_bins):\n",
    "    \"\"\"Devuelve los índices de cortes de bins comunes para toda la muestra.\"\"\"\n",
    "    df_sorted = df_all.sort_values(by=col_r).reset_index(drop=True)\n",
    "    return np.array_split(df_sorted, n_bins)\n",
    "\n",
    "def qf_per_bin(df_bins, col_r, col_s, threshold, state):\n",
    "    \"\"\"Calcula centros y QF para un estado en bins predefinidos.\"\"\"\n",
    "    centers, frac, err_low, err_up = [], [], [], []\n",
    "    for b in df_bins:\n",
    "        b_state = b[b['state'] == state]\n",
    "        centers.append(b_state[col_r].median())\n",
    "        if len(b_state) == 0:\n",
    "            frac.append(np.nan)\n",
    "            err_low.append(0)\n",
    "            err_up.append(0)\n",
    "            continue\n",
    "        active = (b_state[col_s] > threshold).astype(int)\n",
    "        f = active.mean()\n",
    "        frac.append(f)\n",
    "        q1 = np.percentile(active, 25)\n",
    "        q3 = np.percentile(active, 75)\n",
    "        err_low.append(max(0, f - q1))\n",
    "        err_up.append(max(0, q3 - f))\n",
    "    return np.array(centers), np.array(frac), np.array(err_low), np.array(err_up)\n",
    "\n",
    "# Parámetros\n",
    "threshold = 1e-11\n",
    "n_bins = 5\n",
    "\n",
    "# --- z = 0.5 ---\n",
    "bins_05 = equal_count_bins_global(df_05_no_central, 'Rnorm', n_bins)\n",
    "\n",
    "centers_f05, frac_f05, errlow_f05, errup_f05 = qf_per_bin(bins_05, 'Rnorm', 'sSFR', threshold, 'FS')\n",
    "centers_nf05, frac_nf05, errlow_nf05, errup_nf05 = qf_per_bin(bins_05, 'Rnorm', 'sSFR', threshold, 'nFS')\n",
    "\n",
    "# --- z = 1.0 ---\n",
    "bins_1 = equal_count_bins_global(df_1_no_central, 'Rnorm', n_bins)\n",
    "\n",
    "centers_f1, frac_f1, errlow_f1, errup_f1 = qf_per_bin(bins_1, 'Rnorm', 'sSFR', threshold, 'FS')\n",
    "centers_nf1, frac_nf1, errlow_nf1, errup_nf1 = qf_per_bin(bins_1, 'Rnorm', 'sSFR', threshold, 'nFS')\n",
    "\n",
    "# --- Graficar ---\n",
    "fig, ax = plt.subplots(1, 2, figsize=(12, 5), sharey=True)\n",
    "\n",
    "# Panel z = 0.5\n",
    "for centers, frac, err_low, err_up, color, label in [\n",
    "    (centers_f05, frac_f05, errlow_f05, errup_f05, 'orange', 'Fossil'),\n",
    "    (centers_nf05, frac_nf05, errlow_nf05, errup_nf05, 'royalblue', 'Non-Fossil')\n",
    "]:\n",
    "    ax[0].errorbar(centers, frac, yerr=[err_low, err_up],\n",
    "                   fmt='o', color=color, label=label, capsize=3, alpha=0.9)\n",
    "\n",
    "ax[0].set_title('0.5 R200')\n",
    "ax[0].set_xlabel('R / R200')\n",
    "ax[0].set_ylabel('Fraction of galaxies with sSFR > $10^{-11}$ yr$^{-1}$')\n",
    "ax[0].grid(True)\n",
    "ax[0].set_ylim(0, 0.7)\n",
    "ax[0].axhline(y=0.63, label='field galaxies, Lopes+2024',\n",
    "              linestyle='--', linewidth=5, color='gray', alpha=0.6)\n",
    "ax[0].legend()\n",
    "\n",
    "# Panel z = 1.0\n",
    "for centers, frac, err_low, err_up, color, label in [\n",
    "    (centers_f1, frac_f1, errlow_f1, errup_f1, 'orange', 'Fossil'),\n",
    "    (centers_nf1, frac_nf1, errlow_nf1, errup_nf1, 'royalblue', 'Non-Fossil')\n",
    "]:\n",
    "    ax[1].errorbar(centers, frac, yerr=[err_low, err_up],\n",
    "                   fmt='o', color=color, label=label, capsize=3, alpha=0.9)\n",
    "\n",
    "ax[1].set_title('1.0 R200')\n",
    "ax[1].set_xlabel('R / R200')\n",
    "ax[1].grid(True)\n",
    "ax[1].set_ylim(0, 0.7)\n",
    "ax[1].axhline(y=0.63, label='field galaxies, Lopes+2024',\n",
    "              linestyle='--', linewidth=5, color='gray', alpha=0.6)\n",
    "\n",
    "plt.tight_layout()\n",
    "plt.savefig('ssfr_fraction_equalbins_global.png', dpi=300)\n",
    "plt.show()\n"
   ]
  },
  {
   "cell_type": "code",
   "execution_count": null,
   "id": "dda2ac48-315e-4368-b5f2-df4b77ef8d6e",
   "metadata": {},
   "outputs": [],
   "source": []
  }
 ],
 "metadata": {
  "kernelspec": {
   "display_name": "Python 3 (ipykernel)",
   "language": "python",
   "name": "python3"
  },
  "language_info": {
   "codemirror_mode": {
    "name": "ipython",
    "version": 3
   },
   "file_extension": ".py",
   "mimetype": "text/x-python",
   "name": "python",
   "nbconvert_exporter": "python",
   "pygments_lexer": "ipython3",
   "version": "3.11.4"
  }
 },
 "nbformat": 4,
 "nbformat_minor": 5
}
